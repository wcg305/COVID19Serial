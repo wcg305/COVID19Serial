{
 "cells": [
  {
   "cell_type": "code",
   "execution_count": 1,
   "metadata": {},
   "outputs": [
    {
     "name": "stderr",
     "output_type": "stream",
     "text": [
      "rstan (Version 2.19.3, GitRev: 2e1f913d3ca3)\n",
      "\n",
      "For execution on a local, multicore CPU with excess RAM we recommend calling\n",
      "options(mc.cores = parallel::detectCores()).\n",
      "To avoid recompilation of unchanged Stan programs, we recommend calling\n",
      "rstan_options(auto_write = TRUE)\n",
      "\n",
      "Loading required package: zoo\n",
      "\n",
      "\n",
      "Attaching package: ‘zoo’\n",
      "\n",
      "\n",
      "The following objects are masked from ‘package:base’:\n",
      "\n",
      "    as.Date, as.Date.numeric\n",
      "\n",
      "\n",
      "Loading required package: lubridate\n",
      "\n",
      "\n",
      "Attaching package: ‘lubridate’\n",
      "\n",
      "\n",
      "The following object is masked from ‘package:base’:\n",
      "\n",
      "    date\n",
      "\n",
      "\n"
     ]
    },
    {
     "data": {
      "text/plain": [
       "[1] ‘2.19.3’"
      ]
     },
     "metadata": {},
     "output_type": "display_data"
    },
    {
     "data": {
      "text/plain": [
       "[1] ‘2.21.0.1’"
      ]
     },
     "metadata": {},
     "output_type": "display_data"
    },
    {
     "data": {
      "text/html": [
       "'2.21.0'"
      ],
      "text/latex": [
       "'2.21.0'"
      ],
      "text/markdown": [
       "'2.21.0'"
      ],
      "text/plain": [
       "[1] \"2.21.0\""
      ]
     },
     "metadata": {},
     "output_type": "display_data"
    }
   ],
   "source": [
    "libraries = c(\"dplyr\",\"magrittr\",\"tidyr\",\"ggplot2\",\"rstan\",\"readxl\")\n",
    "for(x in libraries) { library(x,character.only=TRUE,warn.conflicts=FALSE,quietly=TRUE) }\n",
    "\n",
    "require(zoo)\n",
    "require(lubridate)\n",
    "\n",
    "base_sz = 12 # base_size parameter\n",
    "theme_set(theme_bw())\n",
    "\n",
    "'%&%' = function(x,y) paste0(x,y)\n",
    "\n",
    "options(mc.cores = parallel::detectCores())\n",
    "rstan_options(auto_write = TRUE)\n",
    "\n",
    "packageVersion(\"rstan\")\n",
    "packageVersion(\"StanHeaders\")\n",
    "rstan::stan_version()"
   ]
  },
  {
   "cell_type": "code",
   "execution_count": 3,
   "metadata": {},
   "outputs": [
    {
     "data": {
      "text/html": [
       "<table>\n",
       "<caption>A tibble: 6 × 8</caption>\n",
       "<thead>\n",
       "\t<tr><th scope=col>ID</th><th scope=col>SIStatus</th><th scope=col>Onset</th><th scope=col>ExposureL</th><th scope=col>DateReportedConfirmed</th><th scope=col>InfectorID</th><th scope=col>S_L</th><th scope=col>S_R</th></tr>\n",
       "\t<tr><th scope=col>&lt;chr&gt;</th><th scope=col>&lt;chr&gt;</th><th scope=col>&lt;dttm&gt;</th><th scope=col>&lt;dttm&gt;</th><th scope=col>&lt;dttm&gt;</th><th scope=col>&lt;chr&gt;</th><th scope=col>&lt;dttm&gt;</th><th scope=col>&lt;dttm&gt;</th></tr>\n",
       "</thead>\n",
       "<tbody>\n",
       "\t<tr><td>NW667</td><td>Certain</td><td>2019-12-25</td><td>NA</td><td>NA</td><td>NW666</td><td>2019-12-25</td><td>2019-12-26</td></tr>\n",
       "\t<tr><td>NW668</td><td>Certain</td><td>2019-12-29</td><td>NA</td><td>NA</td><td>NW666</td><td>2019-12-29</td><td>2019-12-30</td></tr>\n",
       "\t<tr><td>NW670</td><td>Certain</td><td>2020-01-03</td><td>NA</td><td>NA</td><td>NW669</td><td>2020-01-03</td><td>2020-01-04</td></tr>\n",
       "\t<tr><td>NW673</td><td>Certain</td><td>2019-12-19</td><td>NA</td><td>NA</td><td>NW671</td><td>2019-12-19</td><td>2019-12-20</td></tr>\n",
       "\t<tr><td>NW677</td><td>Certain</td><td>2019-12-24</td><td>NA</td><td>NA</td><td>NW675</td><td>2019-12-24</td><td>2019-12-25</td></tr>\n",
       "\t<tr><td>NW679</td><td>Certain</td><td>2020-01-11</td><td>NA</td><td>NA</td><td>NW678</td><td>2020-01-11</td><td>2020-01-12</td></tr>\n",
       "</tbody>\n",
       "</table>\n"
      ],
      "text/latex": [
       "A tibble: 6 × 8\n",
       "\\begin{tabular}{llllllll}\n",
       " ID & SIStatus & Onset & ExposureL & DateReportedConfirmed & InfectorID & S\\_L & S\\_R\\\\\n",
       " <chr> & <chr> & <dttm> & <dttm> & <dttm> & <chr> & <dttm> & <dttm>\\\\\n",
       "\\hline\n",
       "\t NW667 & Certain & 2019-12-25 & NA & NA & NW666 & 2019-12-25 & 2019-12-26\\\\\n",
       "\t NW668 & Certain & 2019-12-29 & NA & NA & NW666 & 2019-12-29 & 2019-12-30\\\\\n",
       "\t NW670 & Certain & 2020-01-03 & NA & NA & NW669 & 2020-01-03 & 2020-01-04\\\\\n",
       "\t NW673 & Certain & 2019-12-19 & NA & NA & NW671 & 2019-12-19 & 2019-12-20\\\\\n",
       "\t NW677 & Certain & 2019-12-24 & NA & NA & NW675 & 2019-12-24 & 2019-12-25\\\\\n",
       "\t NW679 & Certain & 2020-01-11 & NA & NA & NW678 & 2020-01-11 & 2020-01-12\\\\\n",
       "\\end{tabular}\n"
      ],
      "text/markdown": [
       "\n",
       "A tibble: 6 × 8\n",
       "\n",
       "| ID &lt;chr&gt; | SIStatus &lt;chr&gt; | Onset &lt;dttm&gt; | ExposureL &lt;dttm&gt; | DateReportedConfirmed &lt;dttm&gt; | InfectorID &lt;chr&gt; | S_L &lt;dttm&gt; | S_R &lt;dttm&gt; |\n",
       "|---|---|---|---|---|---|---|---|\n",
       "| NW667 | Certain | 2019-12-25 | NA | NA | NW666 | 2019-12-25 | 2019-12-26 |\n",
       "| NW668 | Certain | 2019-12-29 | NA | NA | NW666 | 2019-12-29 | 2019-12-30 |\n",
       "| NW670 | Certain | 2020-01-03 | NA | NA | NW669 | 2020-01-03 | 2020-01-04 |\n",
       "| NW673 | Certain | 2019-12-19 | NA | NA | NW671 | 2019-12-19 | 2019-12-20 |\n",
       "| NW677 | Certain | 2019-12-24 | NA | NA | NW675 | 2019-12-24 | 2019-12-25 |\n",
       "| NW679 | Certain | 2020-01-11 | NA | NA | NW678 | 2020-01-11 | 2020-01-12 |\n",
       "\n"
      ],
      "text/plain": [
       "  ID    SIStatus Onset      ExposureL DateReportedConfirmed InfectorID\n",
       "1 NW667 Certain  2019-12-25 <NA>      <NA>                  NW666     \n",
       "2 NW668 Certain  2019-12-29 <NA>      <NA>                  NW666     \n",
       "3 NW670 Certain  2020-01-03 <NA>      <NA>                  NW669     \n",
       "4 NW673 Certain  2019-12-19 <NA>      <NA>                  NW671     \n",
       "5 NW677 Certain  2019-12-24 <NA>      <NA>                  NW675     \n",
       "6 NW679 Certain  2020-01-11 <NA>      <NA>                  NW678     \n",
       "  S_L        S_R       \n",
       "1 2019-12-25 2019-12-26\n",
       "2 2019-12-29 2019-12-30\n",
       "3 2020-01-03 2020-01-04\n",
       "4 2019-12-19 2019-12-20\n",
       "5 2019-12-24 2019-12-25\n",
       "6 2020-01-11 2020-01-12"
      ]
     },
     "metadata": {},
     "output_type": "display_data"
    }
   ],
   "source": [
    "# here we omit the extraction of the dataset from our master file, \n",
    "# but the resulting dataframe consists of six cases from in Li et al NEJM paper\n",
    "Df %>% filter((SIStatus=='Certain')&(DiagnosisCountry=='China')) %>% select(ID, SIStatus, Onset, ExposureL, DateReportedConfirmed, InfectorID) %>% \n",
    "    mutate(ID = as.character(ID), \n",
    "           InfectorID = as.character(InfectorID), \n",
    "           SIStatus = as.character(SIStatus), \n",
    "           OnsetL = if_else(!is.na(Onset), Onset, ExposureL), \n",
    "           OnsetR = if_else(!is.na(Onset), Onset+days(1), DateReportedConfirmed)) %>%\n",
    "    rename(S_L = OnsetL, S_R = OnsetR) -> df\n",
    "\n",
    "lvls <- levels(Df$ID)\n",
    "df"
   ]
  },
  {
   "cell_type": "code",
   "execution_count": 4,
   "metadata": {},
   "outputs": [
    {
     "data": {
      "text/html": [
       "<table>\n",
       "<caption>A tibble: 6 × 6</caption>\n",
       "<thead>\n",
       "\t<tr><th scope=col>InfectorID</th><th scope=col>SIStatus</th><th scope=col>E_L</th><th scope=col>E_R</th><th scope=col>S_L</th><th scope=col>S_R</th></tr>\n",
       "\t<tr><th scope=col>&lt;chr&gt;</th><th scope=col>&lt;chr&gt;</th><th scope=col>&lt;date&gt;</th><th scope=col>&lt;date&gt;</th><th scope=col>&lt;date&gt;</th><th scope=col>&lt;date&gt;</th></tr>\n",
       "</thead>\n",
       "<tbody>\n",
       "\t<tr><td>NW666</td><td>Certain</td><td>2019-12-20</td><td>2019-12-21</td><td>2019-12-25</td><td>2019-12-26</td></tr>\n",
       "\t<tr><td>NW666</td><td>Certain</td><td>2019-12-20</td><td>2019-12-21</td><td>2019-12-29</td><td>2019-12-30</td></tr>\n",
       "\t<tr><td>NW669</td><td>Certain</td><td>2019-12-27</td><td>2019-12-28</td><td>2020-01-03</td><td>2020-01-04</td></tr>\n",
       "\t<tr><td>NW671</td><td>Certain</td><td>2019-12-12</td><td>2019-12-13</td><td>2019-12-19</td><td>2019-12-20</td></tr>\n",
       "\t<tr><td>NW675</td><td>Certain</td><td>2019-12-21</td><td>2019-12-22</td><td>2019-12-24</td><td>2019-12-25</td></tr>\n",
       "\t<tr><td>NW678</td><td>Certain</td><td>2020-01-04</td><td>2020-01-05</td><td>2020-01-11</td><td>2020-01-12</td></tr>\n",
       "</tbody>\n",
       "</table>\n"
      ],
      "text/latex": [
       "A tibble: 6 × 6\n",
       "\\begin{tabular}{llllll}\n",
       " InfectorID & SIStatus & E\\_L & E\\_R & S\\_L & S\\_R\\\\\n",
       " <chr> & <chr> & <date> & <date> & <date> & <date>\\\\\n",
       "\\hline\n",
       "\t NW666 & Certain & 2019-12-20 & 2019-12-21 & 2019-12-25 & 2019-12-26\\\\\n",
       "\t NW666 & Certain & 2019-12-20 & 2019-12-21 & 2019-12-29 & 2019-12-30\\\\\n",
       "\t NW669 & Certain & 2019-12-27 & 2019-12-28 & 2020-01-03 & 2020-01-04\\\\\n",
       "\t NW671 & Certain & 2019-12-12 & 2019-12-13 & 2019-12-19 & 2019-12-20\\\\\n",
       "\t NW675 & Certain & 2019-12-21 & 2019-12-22 & 2019-12-24 & 2019-12-25\\\\\n",
       "\t NW678 & Certain & 2020-01-04 & 2020-01-05 & 2020-01-11 & 2020-01-12\\\\\n",
       "\\end{tabular}\n"
      ],
      "text/markdown": [
       "\n",
       "A tibble: 6 × 6\n",
       "\n",
       "| InfectorID &lt;chr&gt; | SIStatus &lt;chr&gt; | E_L &lt;date&gt; | E_R &lt;date&gt; | S_L &lt;date&gt; | S_R &lt;date&gt; |\n",
       "|---|---|---|---|---|---|\n",
       "| NW666 | Certain | 2019-12-20 | 2019-12-21 | 2019-12-25 | 2019-12-26 |\n",
       "| NW666 | Certain | 2019-12-20 | 2019-12-21 | 2019-12-29 | 2019-12-30 |\n",
       "| NW669 | Certain | 2019-12-27 | 2019-12-28 | 2020-01-03 | 2020-01-04 |\n",
       "| NW671 | Certain | 2019-12-12 | 2019-12-13 | 2019-12-19 | 2019-12-20 |\n",
       "| NW675 | Certain | 2019-12-21 | 2019-12-22 | 2019-12-24 | 2019-12-25 |\n",
       "| NW678 | Certain | 2020-01-04 | 2020-01-05 | 2020-01-11 | 2020-01-12 |\n",
       "\n"
      ],
      "text/plain": [
       "  InfectorID SIStatus E_L        E_R        S_L        S_R       \n",
       "1 NW666      Certain  2019-12-20 2019-12-21 2019-12-25 2019-12-26\n",
       "2 NW666      Certain  2019-12-20 2019-12-21 2019-12-29 2019-12-30\n",
       "3 NW669      Certain  2019-12-27 2019-12-28 2020-01-03 2020-01-04\n",
       "4 NW671      Certain  2019-12-12 2019-12-13 2019-12-19 2019-12-20\n",
       "5 NW675      Certain  2019-12-21 2019-12-22 2019-12-24 2019-12-25\n",
       "6 NW678      Certain  2020-01-04 2020-01-05 2020-01-11 2020-01-12"
      ]
     },
     "metadata": {},
     "output_type": "display_data"
    }
   ],
   "source": [
    "Df %>% select(ID, Onset, ExposureL, DateReportedConfirmed) %>% \n",
    "    mutate(OnsetL = if_else(!is.na(Onset), Onset, ExposureL), \n",
    "           OnsetR = if_else(!is.na(Onset), Onset+days(1), DateReportedConfirmed)) %>%\n",
    "    select(OnsetL, OnsetR, ID) %>% rename(E_L=OnsetL, E_R = OnsetR, InfectorID = ID) %>% \n",
    "    mutate(InfectorID = as.character(InfectorID)) %>%\n",
    "    left_join(df %>% select(InfectorID, SIStatus, S_L, S_R), by='InfectorID') %>%\n",
    "    drop_na %>% distinct %>% mutate_each(as.Date, -InfectorID, -SIStatus) %>% select(InfectorID, SIStatus, everything()) %>% arrange(SIStatus) -> df\n",
    "\n",
    "df"
   ]
  },
  {
   "cell_type": "code",
   "execution_count": 5,
   "metadata": {},
   "outputs": [
    {
     "data": {
      "text/html": [
       "<table>\n",
       "<caption>A tibble: 6 × 8</caption>\n",
       "<thead>\n",
       "\t<tr><th scope=col>InfectorID</th><th scope=col>SIStatus</th><th scope=col>E_L</th><th scope=col>E_R</th><th scope=col>S_L</th><th scope=col>S_R</th><th scope=col>tstar</th><th scope=col>dist</th></tr>\n",
       "\t<tr><th scope=col>&lt;chr&gt;</th><th scope=col>&lt;chr&gt;</th><th scope=col>&lt;dbl&gt;</th><th scope=col>&lt;dbl&gt;</th><th scope=col>&lt;dbl&gt;</th><th scope=col>&lt;dbl&gt;</th><th scope=col>&lt;dbl&gt;</th><th scope=col>&lt;dbl&gt;</th></tr>\n",
       "</thead>\n",
       "<tbody>\n",
       "\t<tr><td>NW666</td><td>Certain</td><td>19</td><td>20</td><td>24</td><td>25</td><td>73</td><td>5</td></tr>\n",
       "\t<tr><td>NW666</td><td>Certain</td><td>19</td><td>20</td><td>28</td><td>29</td><td>73</td><td>9</td></tr>\n",
       "\t<tr><td>NW669</td><td>Certain</td><td>26</td><td>27</td><td>33</td><td>34</td><td>73</td><td>7</td></tr>\n",
       "\t<tr><td>NW671</td><td>Certain</td><td>11</td><td>12</td><td>18</td><td>19</td><td>73</td><td>7</td></tr>\n",
       "\t<tr><td>NW675</td><td>Certain</td><td>20</td><td>21</td><td>23</td><td>24</td><td>73</td><td>3</td></tr>\n",
       "\t<tr><td>NW678</td><td>Certain</td><td>34</td><td>35</td><td>41</td><td>42</td><td>73</td><td>7</td></tr>\n",
       "</tbody>\n",
       "</table>\n"
      ],
      "text/latex": [
       "A tibble: 6 × 8\n",
       "\\begin{tabular}{llllllll}\n",
       " InfectorID & SIStatus & E\\_L & E\\_R & S\\_L & S\\_R & tstar & dist\\\\\n",
       " <chr> & <chr> & <dbl> & <dbl> & <dbl> & <dbl> & <dbl> & <dbl>\\\\\n",
       "\\hline\n",
       "\t NW666 & Certain & 19 & 20 & 24 & 25 & 73 & 5\\\\\n",
       "\t NW666 & Certain & 19 & 20 & 28 & 29 & 73 & 9\\\\\n",
       "\t NW669 & Certain & 26 & 27 & 33 & 34 & 73 & 7\\\\\n",
       "\t NW671 & Certain & 11 & 12 & 18 & 19 & 73 & 7\\\\\n",
       "\t NW675 & Certain & 20 & 21 & 23 & 24 & 73 & 3\\\\\n",
       "\t NW678 & Certain & 34 & 35 & 41 & 42 & 73 & 7\\\\\n",
       "\\end{tabular}\n"
      ],
      "text/markdown": [
       "\n",
       "A tibble: 6 × 8\n",
       "\n",
       "| InfectorID &lt;chr&gt; | SIStatus &lt;chr&gt; | E_L &lt;dbl&gt; | E_R &lt;dbl&gt; | S_L &lt;dbl&gt; | S_R &lt;dbl&gt; | tstar &lt;dbl&gt; | dist &lt;dbl&gt; |\n",
       "|---|---|---|---|---|---|---|---|\n",
       "| NW666 | Certain | 19 | 20 | 24 | 25 | 73 | 5 |\n",
       "| NW666 | Certain | 19 | 20 | 28 | 29 | 73 | 9 |\n",
       "| NW669 | Certain | 26 | 27 | 33 | 34 | 73 | 7 |\n",
       "| NW671 | Certain | 11 | 12 | 18 | 19 | 73 | 7 |\n",
       "| NW675 | Certain | 20 | 21 | 23 | 24 | 73 | 3 |\n",
       "| NW678 | Certain | 34 | 35 | 41 | 42 | 73 | 7 |\n",
       "\n"
      ],
      "text/plain": [
       "  InfectorID SIStatus E_L E_R S_L S_R tstar dist\n",
       "1 NW666      Certain  19  20  24  25  73    5   \n",
       "2 NW666      Certain  19  20  28  29  73    9   \n",
       "3 NW669      Certain  26  27  33  34  73    7   \n",
       "4 NW671      Certain  11  12  18  19  73    7   \n",
       "5 NW675      Certain  20  21  23  24  73    3   \n",
       "6 NW678      Certain  34  35  41  42  73    7   "
      ]
     },
     "metadata": {},
     "output_type": "display_data"
    }
   ],
   "source": [
    "CUTOFF_TIME = as.Date('2020-02-12')\n",
    "t0 = as.Date('2019-12-01')\n",
    "\n",
    "df['tstar'] = CUTOFF_TIME\n",
    "df %<>% mutate_each(list(~(as.numeric(. - t0))), -InfectorID, -SIStatus) %>% mutate(dist = (S_R+S_L)/2-(E_R+E_L)/2)\n",
    "\n",
    "df %<>% mutate(S_L = if_else(S_L < E_L, E_L, S_L), E_R = if_else(E_R > S_R, S_R, E_R)) \n",
    "\n",
    "df"
   ]
  },
  {
   "cell_type": "code",
   "execution_count": 6,
   "metadata": {},
   "outputs": [
    {
     "data": {
      "text/html": [
       "6.33333333333333"
      ],
      "text/latex": [
       "6.33333333333333"
      ],
      "text/markdown": [
       "6.33333333333333"
      ],
      "text/plain": [
       "[1] 6.333333"
      ]
     },
     "metadata": {},
     "output_type": "display_data"
    }
   ],
   "source": [
    "mean(df$dist)"
   ]
  },
  {
   "cell_type": "code",
   "execution_count": 7,
   "metadata": {},
   "outputs": [
    {
     "data": {
      "text/html": [
       "2.06559111797729"
      ],
      "text/latex": [
       "2.06559111797729"
      ],
      "text/markdown": [
       "2.06559111797729"
      ],
      "text/plain": [
       "[1] 2.065591"
      ]
     },
     "metadata": {},
     "output_type": "display_data"
    }
   ],
   "source": [
    "sd(df$dist)"
   ]
  },
  {
   "cell_type": "code",
   "execution_count": 8,
   "metadata": {},
   "outputs": [],
   "source": [
    "data_drname = \"../../data\"\n",
    "flname = 'data-probable.csv'\n",
    "write.table(df, paste0(data_drname,flname), row.names=FALSE, sep=\",\", quote = FALSE)"
   ]
  },
  {
   "cell_type": "markdown",
   "metadata": {},
   "source": [
    "# Stan simulations"
   ]
  },
  {
   "cell_type": "code",
   "execution_count": 9,
   "metadata": {},
   "outputs": [],
   "source": [
    "stanmaindir = 'stan-sims-NEJMChina'\n",
    "unlink(stanmaindir, recursive=T)\n",
    "dir.create(stanmaindir)"
   ]
  },
  {
   "cell_type": "markdown",
   "metadata": {},
   "source": [
    "# No truncation"
   ]
  },
  {
   "cell_type": "markdown",
   "metadata": {},
   "source": [
    "## <font color=\"maroon\">Lognormal distribution</font>"
   ]
  },
  {
   "cell_type": "code",
   "execution_count": 15,
   "metadata": {},
   "outputs": [
    {
     "data": {
      "text/html": [
       "<style>\n",
       ".list-inline {list-style: none; margin:0; padding: 0}\n",
       ".list-inline>li {display: inline-block}\n",
       ".list-inline>li:not(:last-child)::after {content: \"\\00b7\"; padding: 0 .5ex}\n",
       "</style>\n",
       "<ol class=list-inline><li>''</li><li>'--- Translating Stan model to C++ code ---'</li><li><span style=white-space:pre-wrap>'bin/stanc  --o=../Hokkaido_Wuhan_Serial_Interval_2020/scripts/Andrei/stan-sims-NEJMChina/lognormal-no_truncation/fit.hpp ../Hokkaido_Wuhan_Serial_Interval_2020/scripts/Andrei/stan-sims-NEJMChina/lognormal-no_truncation/fit.stan'</span></li><li><span style=white-space:pre-wrap>'mpicxx -fvisibility-inlines-hidden -std=c++17 -fmessage-length=0 -march=nocona -mtune=haswell -ftree-vectorize -fPIC -fstack-protector-strong -fno-plt -O2 -ffunction-sections -pipe -isystem /home/aakhmetz/anaconda3/include -std=c++1y -D_REENTRANT -Wno-sign-compare    -Wno-delete-non-virtual-dtor  -I stan/lib/stan_math/lib/tbb_2019_U8/include -O3 -I src -I stan/src -I lib/rapidjson_1.1.0/ -I stan/lib/stan_math/ -I stan/lib/stan_math/lib/eigen_3.3.3 -I stan/lib/stan_math/lib/boost_1.72.0 -I stan/lib/stan_math/lib/sundials_4.1.0/include -DNDEBUG -D_FORTIFY_SOURCE=2 -O2 -isystem /home/aakhmetz/anaconda3/include    -DBOOST_DISABLE_ASSERTS   -DSTAN_MPI   -c -MT ../Hokkaido_Wuhan_Serial_Interval_2020/scripts/Andrei/stan-sims-NEJMChina/lognormal-no_truncation/fit.o -MT ../Hokkaido_Wuhan_Serial_Interval_2020/scripts/Andrei/stan-sims-NEJMChina/lognormal-no_truncation/fit -include ../Hokkaido_Wuhan_Serial_Interval_2020/scripts/Andrei/stan-sims-NEJMChina/lognormal-no_truncation/fit.hpp -include src/cmdstan/main.cpp -MM -E -MG -MP -MF ../Hokkaido_Wuhan_Serial_Interval_2020/scripts/Andrei/stan-sims-NEJMChina/lognormal-no_truncation/fit.d ../Hokkaido_Wuhan_Serial_Interval_2020/scripts/Andrei/stan-sims-NEJMChina/lognormal-no_truncation/fit.hpp'</span></li><li>''</li><li>'--- Compiling, linking C++ code ---'</li><li><span style=white-space:pre-wrap>'mpicxx -fvisibility-inlines-hidden -std=c++17 -fmessage-length=0 -march=nocona -mtune=haswell -ftree-vectorize -fPIC -fstack-protector-strong -fno-plt -O2 -ffunction-sections -pipe -isystem /home/aakhmetz/anaconda3/include -std=c++1y -D_REENTRANT -Wno-sign-compare    -Wno-delete-non-virtual-dtor  -I stan/lib/stan_math/lib/tbb_2019_U8/include -O3 -I src -I stan/src -I lib/rapidjson_1.1.0/ -I stan/lib/stan_math/ -I stan/lib/stan_math/lib/eigen_3.3.3 -I stan/lib/stan_math/lib/boost_1.72.0 -I stan/lib/stan_math/lib/sundials_4.1.0/include -DNDEBUG -D_FORTIFY_SOURCE=2 -O2 -isystem /home/aakhmetz/anaconda3/include    -DBOOST_DISABLE_ASSERTS   -DSTAN_MPI   -c  -x c++ -o ../Hokkaido_Wuhan_Serial_Interval_2020/scripts/Andrei/stan-sims-NEJMChina/lognormal-no_truncation/fit.o ../Hokkaido_Wuhan_Serial_Interval_2020/scripts/Andrei/stan-sims-NEJMChina/lognormal-no_truncation/fit.hpp'</span></li><li><span style=white-space:pre-wrap>'mpicxx -fvisibility-inlines-hidden -std=c++17 -fmessage-length=0 -march=nocona -mtune=haswell -ftree-vectorize -fPIC -fstack-protector-strong -fno-plt -O2 -ffunction-sections -pipe -isystem /home/aakhmetz/anaconda3/include -std=c++1y -D_REENTRANT -Wno-sign-compare    -Wno-delete-non-virtual-dtor  -I stan/lib/stan_math/lib/tbb_2019_U8/include -O3 -I src -I stan/src -I lib/rapidjson_1.1.0/ -I stan/lib/stan_math/ -I stan/lib/stan_math/lib/eigen_3.3.3 -I stan/lib/stan_math/lib/boost_1.72.0 -I stan/lib/stan_math/lib/sundials_4.1.0/include -DNDEBUG -D_FORTIFY_SOURCE=2 -O2 -isystem /home/aakhmetz/anaconda3/include    -DBOOST_DISABLE_ASSERTS   -DSTAN_MPI  -Wl,-O2 -Wl,--sort-common -Wl,--as-needed -Wl,-z,relro -Wl,-z,now -Wl,--disable-new-dtags -Wl,--gc-sections -Wl,-rpath,/home/aakhmetz/anaconda3/lib -Wl,-rpath-link,/home/aakhmetz/anaconda3/lib -L/home/aakhmetz/anaconda3/lib       -Wl,-L,\"/home/aakhmetz/Dropbox/CmdStan/stan/lib/stan_math/lib/boost_1.72.0/stage/lib\" -Wl,-rpath,\"/home/aakhmetz/Dropbox/CmdStan/stan/lib/stan_math/lib/boost_1.72.0/stage/lib\" -Wl,-L,\"/home/aakhmetz/Dropbox/CmdStan/stan/lib/stan_math/lib/tbb\" -Wl,-rpath,\"/home/aakhmetz/Dropbox/CmdStan/stan/lib/stan_math/lib/tbb\"  ../Hokkaido_Wuhan_Serial_Interval_2020/scripts/Andrei/stan-sims-NEJMChina/lognormal-no_truncation/fit.o src/cmdstan/main.o         stan/lib/stan_math/lib/sundials_4.1.0/lib/libsundials_nvecserial.a stan/lib/stan_math/lib/sundials_4.1.0/lib/libsundials_cvodes.a stan/lib/stan_math/lib/sundials_4.1.0/lib/libsundials_idas.a stan/lib/stan_math/lib/sundials_4.1.0/lib/libsundials_kinsol.a stan/lib/stan_math/lib/boost_1.72.0/stage/lib/libboost_serialization.so stan/lib/stan_math/lib/boost_1.72.0/stage/lib/libboost_mpi.so stan/lib/stan_math/stan/math/prim/functor/mpi_cluster_inst.o stan/lib/stan_math/lib/tbb/libtbb.so.2 -o ../Hokkaido_Wuhan_Serial_Interval_2020/scripts/Andrei/stan-sims-NEJMChina/lognormal-no_truncation/fit'</span></li><li>'Running 1'</li><li>'Running 2'</li><li>'Running 3'</li><li>'Running 4'</li><li>'Running 5'</li><li>'Running 6'</li><li>'Running 7'</li><li>'Running 8'</li><li>'Running 9'</li><li>'Running 10'</li><li>'Finished sampling haha!'</li></ol>\n"
      ],
      "text/latex": [
       "\\begin{enumerate*}\n",
       "\\item ''\n",
       "\\item '--- Translating Stan model to C++ code ---'\n",
       "\\item 'bin/stanc  --o=../Hokkaido\\_Wuhan\\_Serial\\_Interval\\_2020/scripts/Andrei/stan-sims-NEJMChina/lognormal-no\\_truncation/fit.hpp ../Hokkaido\\_Wuhan\\_Serial\\_Interval\\_2020/scripts/Andrei/stan-sims-NEJMChina/lognormal-no\\_truncation/fit.stan'\n",
       "\\item 'mpicxx -fvisibility-inlines-hidden -std=c++17 -fmessage-length=0 -march=nocona -mtune=haswell -ftree-vectorize -fPIC -fstack-protector-strong -fno-plt -O2 -ffunction-sections -pipe -isystem /home/aakhmetz/anaconda3/include -std=c++1y -D\\_REENTRANT -Wno-sign-compare    -Wno-delete-non-virtual-dtor  -I stan/lib/stan\\_math/lib/tbb\\_2019\\_U8/include -O3 -I src -I stan/src -I lib/rapidjson\\_1.1.0/ -I stan/lib/stan\\_math/ -I stan/lib/stan\\_math/lib/eigen\\_3.3.3 -I stan/lib/stan\\_math/lib/boost\\_1.72.0 -I stan/lib/stan\\_math/lib/sundials\\_4.1.0/include -DNDEBUG -D\\_FORTIFY\\_SOURCE=2 -O2 -isystem /home/aakhmetz/anaconda3/include    -DBOOST\\_DISABLE\\_ASSERTS   -DSTAN\\_MPI   -c -MT ../Hokkaido\\_Wuhan\\_Serial\\_Interval\\_2020/scripts/Andrei/stan-sims-NEJMChina/lognormal-no\\_truncation/fit.o -MT ../Hokkaido\\_Wuhan\\_Serial\\_Interval\\_2020/scripts/Andrei/stan-sims-NEJMChina/lognormal-no\\_truncation/fit -include ../Hokkaido\\_Wuhan\\_Serial\\_Interval\\_2020/scripts/Andrei/stan-sims-NEJMChina/lognormal-no\\_truncation/fit.hpp -include src/cmdstan/main.cpp -MM -E -MG -MP -MF ../Hokkaido\\_Wuhan\\_Serial\\_Interval\\_2020/scripts/Andrei/stan-sims-NEJMChina/lognormal-no\\_truncation/fit.d ../Hokkaido\\_Wuhan\\_Serial\\_Interval\\_2020/scripts/Andrei/stan-sims-NEJMChina/lognormal-no\\_truncation/fit.hpp'\n",
       "\\item ''\n",
       "\\item '--- Compiling, linking C++ code ---'\n",
       "\\item 'mpicxx -fvisibility-inlines-hidden -std=c++17 -fmessage-length=0 -march=nocona -mtune=haswell -ftree-vectorize -fPIC -fstack-protector-strong -fno-plt -O2 -ffunction-sections -pipe -isystem /home/aakhmetz/anaconda3/include -std=c++1y -D\\_REENTRANT -Wno-sign-compare    -Wno-delete-non-virtual-dtor  -I stan/lib/stan\\_math/lib/tbb\\_2019\\_U8/include -O3 -I src -I stan/src -I lib/rapidjson\\_1.1.0/ -I stan/lib/stan\\_math/ -I stan/lib/stan\\_math/lib/eigen\\_3.3.3 -I stan/lib/stan\\_math/lib/boost\\_1.72.0 -I stan/lib/stan\\_math/lib/sundials\\_4.1.0/include -DNDEBUG -D\\_FORTIFY\\_SOURCE=2 -O2 -isystem /home/aakhmetz/anaconda3/include    -DBOOST\\_DISABLE\\_ASSERTS   -DSTAN\\_MPI   -c  -x c++ -o ../Hokkaido\\_Wuhan\\_Serial\\_Interval\\_2020/scripts/Andrei/stan-sims-NEJMChina/lognormal-no\\_truncation/fit.o ../Hokkaido\\_Wuhan\\_Serial\\_Interval\\_2020/scripts/Andrei/stan-sims-NEJMChina/lognormal-no\\_truncation/fit.hpp'\n",
       "\\item 'mpicxx -fvisibility-inlines-hidden -std=c++17 -fmessage-length=0 -march=nocona -mtune=haswell -ftree-vectorize -fPIC -fstack-protector-strong -fno-plt -O2 -ffunction-sections -pipe -isystem /home/aakhmetz/anaconda3/include -std=c++1y -D\\_REENTRANT -Wno-sign-compare    -Wno-delete-non-virtual-dtor  -I stan/lib/stan\\_math/lib/tbb\\_2019\\_U8/include -O3 -I src -I stan/src -I lib/rapidjson\\_1.1.0/ -I stan/lib/stan\\_math/ -I stan/lib/stan\\_math/lib/eigen\\_3.3.3 -I stan/lib/stan\\_math/lib/boost\\_1.72.0 -I stan/lib/stan\\_math/lib/sundials\\_4.1.0/include -DNDEBUG -D\\_FORTIFY\\_SOURCE=2 -O2 -isystem /home/aakhmetz/anaconda3/include    -DBOOST\\_DISABLE\\_ASSERTS   -DSTAN\\_MPI  -Wl,-O2 -Wl,--sort-common -Wl,--as-needed -Wl,-z,relro -Wl,-z,now -Wl,--disable-new-dtags -Wl,--gc-sections -Wl,-rpath,/home/aakhmetz/anaconda3/lib -Wl,-rpath-link,/home/aakhmetz/anaconda3/lib -L/home/aakhmetz/anaconda3/lib       -Wl,-L,\"/home/aakhmetz/Dropbox/CmdStan/stan/lib/stan\\_math/lib/boost\\_1.72.0/stage/lib\" -Wl,-rpath,\"/home/aakhmetz/Dropbox/CmdStan/stan/lib/stan\\_math/lib/boost\\_1.72.0/stage/lib\" -Wl,-L,\"/home/aakhmetz/Dropbox/CmdStan/stan/lib/stan\\_math/lib/tbb\" -Wl,-rpath,\"/home/aakhmetz/Dropbox/CmdStan/stan/lib/stan\\_math/lib/tbb\"  ../Hokkaido\\_Wuhan\\_Serial\\_Interval\\_2020/scripts/Andrei/stan-sims-NEJMChina/lognormal-no\\_truncation/fit.o src/cmdstan/main.o         stan/lib/stan\\_math/lib/sundials\\_4.1.0/lib/libsundials\\_nvecserial.a stan/lib/stan\\_math/lib/sundials\\_4.1.0/lib/libsundials\\_cvodes.a stan/lib/stan\\_math/lib/sundials\\_4.1.0/lib/libsundials\\_idas.a stan/lib/stan\\_math/lib/sundials\\_4.1.0/lib/libsundials\\_kinsol.a stan/lib/stan\\_math/lib/boost\\_1.72.0/stage/lib/libboost\\_serialization.so stan/lib/stan\\_math/lib/boost\\_1.72.0/stage/lib/libboost\\_mpi.so stan/lib/stan\\_math/stan/math/prim/functor/mpi\\_cluster\\_inst.o stan/lib/stan\\_math/lib/tbb/libtbb.so.2 -o ../Hokkaido\\_Wuhan\\_Serial\\_Interval\\_2020/scripts/Andrei/stan-sims-NEJMChina/lognormal-no\\_truncation/fit'\n",
       "\\item 'Running 1'\n",
       "\\item 'Running 2'\n",
       "\\item 'Running 3'\n",
       "\\item 'Running 4'\n",
       "\\item 'Running 5'\n",
       "\\item 'Running 6'\n",
       "\\item 'Running 7'\n",
       "\\item 'Running 8'\n",
       "\\item 'Running 9'\n",
       "\\item 'Running 10'\n",
       "\\item 'Finished sampling haha!'\n",
       "\\end{enumerate*}\n"
      ],
      "text/markdown": [
       "1. ''\n",
       "2. '--- Translating Stan model to C++ code ---'\n",
       "3. <span style=white-space:pre-wrap>'bin/stanc  --o=../Hokkaido_Wuhan_Serial_Interval_2020/scripts/Andrei/stan-sims-NEJMChina/lognormal-no_truncation/fit.hpp ../Hokkaido_Wuhan_Serial_Interval_2020/scripts/Andrei/stan-sims-NEJMChina/lognormal-no_truncation/fit.stan'</span>\n",
       "4. <span style=white-space:pre-wrap>'mpicxx -fvisibility-inlines-hidden -std=c++17 -fmessage-length=0 -march=nocona -mtune=haswell -ftree-vectorize -fPIC -fstack-protector-strong -fno-plt -O2 -ffunction-sections -pipe -isystem /home/aakhmetz/anaconda3/include -std=c++1y -D_REENTRANT -Wno-sign-compare    -Wno-delete-non-virtual-dtor  -I stan/lib/stan_math/lib/tbb_2019_U8/include -O3 -I src -I stan/src -I lib/rapidjson_1.1.0/ -I stan/lib/stan_math/ -I stan/lib/stan_math/lib/eigen_3.3.3 -I stan/lib/stan_math/lib/boost_1.72.0 -I stan/lib/stan_math/lib/sundials_4.1.0/include -DNDEBUG -D_FORTIFY_SOURCE=2 -O2 -isystem /home/aakhmetz/anaconda3/include    -DBOOST_DISABLE_ASSERTS   -DSTAN_MPI   -c -MT ../Hokkaido_Wuhan_Serial_Interval_2020/scripts/Andrei/stan-sims-NEJMChina/lognormal-no_truncation/fit.o -MT ../Hokkaido_Wuhan_Serial_Interval_2020/scripts/Andrei/stan-sims-NEJMChina/lognormal-no_truncation/fit -include ../Hokkaido_Wuhan_Serial_Interval_2020/scripts/Andrei/stan-sims-NEJMChina/lognormal-no_truncation/fit.hpp -include src/cmdstan/main.cpp -MM -E -MG -MP -MF ../Hokkaido_Wuhan_Serial_Interval_2020/scripts/Andrei/stan-sims-NEJMChina/lognormal-no_truncation/fit.d ../Hokkaido_Wuhan_Serial_Interval_2020/scripts/Andrei/stan-sims-NEJMChina/lognormal-no_truncation/fit.hpp'</span>\n",
       "5. ''\n",
       "6. '--- Compiling, linking C++ code ---'\n",
       "7. <span style=white-space:pre-wrap>'mpicxx -fvisibility-inlines-hidden -std=c++17 -fmessage-length=0 -march=nocona -mtune=haswell -ftree-vectorize -fPIC -fstack-protector-strong -fno-plt -O2 -ffunction-sections -pipe -isystem /home/aakhmetz/anaconda3/include -std=c++1y -D_REENTRANT -Wno-sign-compare    -Wno-delete-non-virtual-dtor  -I stan/lib/stan_math/lib/tbb_2019_U8/include -O3 -I src -I stan/src -I lib/rapidjson_1.1.0/ -I stan/lib/stan_math/ -I stan/lib/stan_math/lib/eigen_3.3.3 -I stan/lib/stan_math/lib/boost_1.72.0 -I stan/lib/stan_math/lib/sundials_4.1.0/include -DNDEBUG -D_FORTIFY_SOURCE=2 -O2 -isystem /home/aakhmetz/anaconda3/include    -DBOOST_DISABLE_ASSERTS   -DSTAN_MPI   -c  -x c++ -o ../Hokkaido_Wuhan_Serial_Interval_2020/scripts/Andrei/stan-sims-NEJMChina/lognormal-no_truncation/fit.o ../Hokkaido_Wuhan_Serial_Interval_2020/scripts/Andrei/stan-sims-NEJMChina/lognormal-no_truncation/fit.hpp'</span>\n",
       "8. <span style=white-space:pre-wrap>'mpicxx -fvisibility-inlines-hidden -std=c++17 -fmessage-length=0 -march=nocona -mtune=haswell -ftree-vectorize -fPIC -fstack-protector-strong -fno-plt -O2 -ffunction-sections -pipe -isystem /home/aakhmetz/anaconda3/include -std=c++1y -D_REENTRANT -Wno-sign-compare    -Wno-delete-non-virtual-dtor  -I stan/lib/stan_math/lib/tbb_2019_U8/include -O3 -I src -I stan/src -I lib/rapidjson_1.1.0/ -I stan/lib/stan_math/ -I stan/lib/stan_math/lib/eigen_3.3.3 -I stan/lib/stan_math/lib/boost_1.72.0 -I stan/lib/stan_math/lib/sundials_4.1.0/include -DNDEBUG -D_FORTIFY_SOURCE=2 -O2 -isystem /home/aakhmetz/anaconda3/include    -DBOOST_DISABLE_ASSERTS   -DSTAN_MPI  -Wl,-O2 -Wl,--sort-common -Wl,--as-needed -Wl,-z,relro -Wl,-z,now -Wl,--disable-new-dtags -Wl,--gc-sections -Wl,-rpath,/home/aakhmetz/anaconda3/lib -Wl,-rpath-link,/home/aakhmetz/anaconda3/lib -L/home/aakhmetz/anaconda3/lib       -Wl,-L,\"/home/aakhmetz/Dropbox/CmdStan/stan/lib/stan_math/lib/boost_1.72.0/stage/lib\" -Wl,-rpath,\"/home/aakhmetz/Dropbox/CmdStan/stan/lib/stan_math/lib/boost_1.72.0/stage/lib\" -Wl,-L,\"/home/aakhmetz/Dropbox/CmdStan/stan/lib/stan_math/lib/tbb\" -Wl,-rpath,\"/home/aakhmetz/Dropbox/CmdStan/stan/lib/stan_math/lib/tbb\"  ../Hokkaido_Wuhan_Serial_Interval_2020/scripts/Andrei/stan-sims-NEJMChina/lognormal-no_truncation/fit.o src/cmdstan/main.o         stan/lib/stan_math/lib/sundials_4.1.0/lib/libsundials_nvecserial.a stan/lib/stan_math/lib/sundials_4.1.0/lib/libsundials_cvodes.a stan/lib/stan_math/lib/sundials_4.1.0/lib/libsundials_idas.a stan/lib/stan_math/lib/sundials_4.1.0/lib/libsundials_kinsol.a stan/lib/stan_math/lib/boost_1.72.0/stage/lib/libboost_serialization.so stan/lib/stan_math/lib/boost_1.72.0/stage/lib/libboost_mpi.so stan/lib/stan_math/stan/math/prim/functor/mpi_cluster_inst.o stan/lib/stan_math/lib/tbb/libtbb.so.2 -o ../Hokkaido_Wuhan_Serial_Interval_2020/scripts/Andrei/stan-sims-NEJMChina/lognormal-no_truncation/fit'</span>\n",
       "9. 'Running 1'\n",
       "10. 'Running 2'\n",
       "11. 'Running 3'\n",
       "12. 'Running 4'\n",
       "13. 'Running 5'\n",
       "14. 'Running 6'\n",
       "15. 'Running 7'\n",
       "16. 'Running 8'\n",
       "17. 'Running 9'\n",
       "18. 'Running 10'\n",
       "19. 'Finished sampling haha!'\n",
       "\n",
       "\n"
      ],
      "text/plain": [
       " [1] \"\"                                                                                                                                                                                                                                                                                                                                                                                                                                                                                                                                                                                                                                                                                                                                                                                                                                                                                                                                                                                                                                                                                                                                                                                                                                                                                                                                                                                                                                                                                                                                                                                                                                                                                                                                                                                                                                                                                                                                                                                                            \n",
       " [2] \"--- Translating Stan model to C++ code ---\"                                                                                                                                                                                                                                                                                                                                                                                                                                                                                                                                                                                                                                                                                                                                                                                                                                                                                                                                                                                                                                                                                                                                                                                                                                                                                                                                                                                                                                                                                                                                                                                                                                                                                                                                                                                                                                                                                                                                                                  \n",
       " [3] \"bin/stanc  --o=../Hokkaido_Wuhan_Serial_Interval_2020/scripts/Andrei/stan-sims-NEJMChina/lognormal-no_truncation/fit.hpp ../Hokkaido_Wuhan_Serial_Interval_2020/scripts/Andrei/stan-sims-NEJMChina/lognormal-no_truncation/fit.stan\"                                                                                                                                                                                                                                                                                                                                                                                                                                                                                                                                                                                                                                                                                                                                                                                                                                                                                                                                                                                                                                                                                                                                                                                                                                                                                                                                                                                                                                                                                                                                                                                                                                                                                                                                                                         \n",
       " [4] \"mpicxx -fvisibility-inlines-hidden -std=c++17 -fmessage-length=0 -march=nocona -mtune=haswell -ftree-vectorize -fPIC -fstack-protector-strong -fno-plt -O2 -ffunction-sections -pipe -isystem /home/aakhmetz/anaconda3/include -std=c++1y -D_REENTRANT -Wno-sign-compare    -Wno-delete-non-virtual-dtor  -I stan/lib/stan_math/lib/tbb_2019_U8/include -O3 -I src -I stan/src -I lib/rapidjson_1.1.0/ -I stan/lib/stan_math/ -I stan/lib/stan_math/lib/eigen_3.3.3 -I stan/lib/stan_math/lib/boost_1.72.0 -I stan/lib/stan_math/lib/sundials_4.1.0/include -DNDEBUG -D_FORTIFY_SOURCE=2 -O2 -isystem /home/aakhmetz/anaconda3/include    -DBOOST_DISABLE_ASSERTS   -DSTAN_MPI   -c -MT ../Hokkaido_Wuhan_Serial_Interval_2020/scripts/Andrei/stan-sims-NEJMChina/lognormal-no_truncation/fit.o -MT ../Hokkaido_Wuhan_Serial_Interval_2020/scripts/Andrei/stan-sims-NEJMChina/lognormal-no_truncation/fit -include ../Hokkaido_Wuhan_Serial_Interval_2020/scripts/Andrei/stan-sims-NEJMChina/lognormal-no_truncation/fit.hpp -include src/cmdstan/main.cpp -MM -E -MG -MP -MF ../Hokkaido_Wuhan_Serial_Interval_2020/scripts/Andrei/stan-sims-NEJMChina/lognormal-no_truncation/fit.d ../Hokkaido_Wuhan_Serial_Interval_2020/scripts/Andrei/stan-sims-NEJMChina/lognormal-no_truncation/fit.hpp\"                                                                                                                                                                                                                                                                                                                                                                                                                                                                                                                                                                                                                                                                                                             \n",
       " [5] \"\"                                                                                                                                                                                                                                                                                                                                                                                                                                                                                                                                                                                                                                                                                                                                                                                                                                                                                                                                                                                                                                                                                                                                                                                                                                                                                                                                                                                                                                                                                                                                                                                                                                                                                                                                                                                                                                                                                                                                                                                                            \n",
       " [6] \"--- Compiling, linking C++ code ---\"                                                                                                                                                                                                                                                                                                                                                                                                                                                                                                                                                                                                                                                                                                                                                                                                                                                                                                                                                                                                                                                                                                                                                                                                                                                                                                                                                                                                                                                                                                                                                                                                                                                                                                                                                                                                                                                                                                                                                                         \n",
       " [7] \"mpicxx -fvisibility-inlines-hidden -std=c++17 -fmessage-length=0 -march=nocona -mtune=haswell -ftree-vectorize -fPIC -fstack-protector-strong -fno-plt -O2 -ffunction-sections -pipe -isystem /home/aakhmetz/anaconda3/include -std=c++1y -D_REENTRANT -Wno-sign-compare    -Wno-delete-non-virtual-dtor  -I stan/lib/stan_math/lib/tbb_2019_U8/include -O3 -I src -I stan/src -I lib/rapidjson_1.1.0/ -I stan/lib/stan_math/ -I stan/lib/stan_math/lib/eigen_3.3.3 -I stan/lib/stan_math/lib/boost_1.72.0 -I stan/lib/stan_math/lib/sundials_4.1.0/include -DNDEBUG -D_FORTIFY_SOURCE=2 -O2 -isystem /home/aakhmetz/anaconda3/include    -DBOOST_DISABLE_ASSERTS   -DSTAN_MPI   -c  -x c++ -o ../Hokkaido_Wuhan_Serial_Interval_2020/scripts/Andrei/stan-sims-NEJMChina/lognormal-no_truncation/fit.o ../Hokkaido_Wuhan_Serial_Interval_2020/scripts/Andrei/stan-sims-NEJMChina/lognormal-no_truncation/fit.hpp\"                                                                                                                                                                                                                                                                                                                                                                                                                                                                                                                                                                                                                                                                                                                                                                                                                                                                                                                                                                                                                                                                                            \n",
       " [8] \"mpicxx -fvisibility-inlines-hidden -std=c++17 -fmessage-length=0 -march=nocona -mtune=haswell -ftree-vectorize -fPIC -fstack-protector-strong -fno-plt -O2 -ffunction-sections -pipe -isystem /home/aakhmetz/anaconda3/include -std=c++1y -D_REENTRANT -Wno-sign-compare    -Wno-delete-non-virtual-dtor  -I stan/lib/stan_math/lib/tbb_2019_U8/include -O3 -I src -I stan/src -I lib/rapidjson_1.1.0/ -I stan/lib/stan_math/ -I stan/lib/stan_math/lib/eigen_3.3.3 -I stan/lib/stan_math/lib/boost_1.72.0 -I stan/lib/stan_math/lib/sundials_4.1.0/include -DNDEBUG -D_FORTIFY_SOURCE=2 -O2 -isystem /home/aakhmetz/anaconda3/include    -DBOOST_DISABLE_ASSERTS   -DSTAN_MPI  -Wl,-O2 -Wl,--sort-common -Wl,--as-needed -Wl,-z,relro -Wl,-z,now -Wl,--disable-new-dtags -Wl,--gc-sections -Wl,-rpath,/home/aakhmetz/anaconda3/lib -Wl,-rpath-link,/home/aakhmetz/anaconda3/lib -L/home/aakhmetz/anaconda3/lib       -Wl,-L,\\\"/home/aakhmetz/Dropbox/CmdStan/stan/lib/stan_math/lib/boost_1.72.0/stage/lib\\\" -Wl,-rpath,\\\"/home/aakhmetz/Dropbox/CmdStan/stan/lib/stan_math/lib/boost_1.72.0/stage/lib\\\" -Wl,-L,\\\"/home/aakhmetz/Dropbox/CmdStan/stan/lib/stan_math/lib/tbb\\\" -Wl,-rpath,\\\"/home/aakhmetz/Dropbox/CmdStan/stan/lib/stan_math/lib/tbb\\\"  ../Hokkaido_Wuhan_Serial_Interval_2020/scripts/Andrei/stan-sims-NEJMChina/lognormal-no_truncation/fit.o src/cmdstan/main.o         stan/lib/stan_math/lib/sundials_4.1.0/lib/libsundials_nvecserial.a stan/lib/stan_math/lib/sundials_4.1.0/lib/libsundials_cvodes.a stan/lib/stan_math/lib/sundials_4.1.0/lib/libsundials_idas.a stan/lib/stan_math/lib/sundials_4.1.0/lib/libsundials_kinsol.a stan/lib/stan_math/lib/boost_1.72.0/stage/lib/libboost_serialization.so stan/lib/stan_math/lib/boost_1.72.0/stage/lib/libboost_mpi.so stan/lib/stan_math/stan/math/prim/functor/mpi_cluster_inst.o stan/lib/stan_math/lib/tbb/libtbb.so.2 -o ../Hokkaido_Wuhan_Serial_Interval_2020/scripts/Andrei/stan-sims-NEJMChina/lognormal-no_truncation/fit\"\n",
       " [9] \"Running 1\"                                                                                                                                                                                                                                                                                                                                                                                                                                                                                                                                                                                                                                                                                                                                                                                                                                                                                                                                                                                                                                                                                                                                                                                                                                                                                                                                                                                                                                                                                                                                                                                                                                                                                                                                                                                                                                                                                                                                                                                                   \n",
       "[10] \"Running 2\"                                                                                                                                                                                                                                                                                                                                                                                                                                                                                                                                                                                                                                                                                                                                                                                                                                                                                                                                                                                                                                                                                                                                                                                                                                                                                                                                                                                                                                                                                                                                                                                                                                                                                                                                                                                                                                                                                                                                                                                                   \n",
       "[11] \"Running 3\"                                                                                                                                                                                                                                                                                                                                                                                                                                                                                                                                                                                                                                                                                                                                                                                                                                                                                                                                                                                                                                                                                                                                                                                                                                                                                                                                                                                                                                                                                                                                                                                                                                                                                                                                                                                                                                                                                                                                                                                                   \n",
       "[12] \"Running 4\"                                                                                                                                                                                                                                                                                                                                                                                                                                                                                                                                                                                                                                                                                                                                                                                                                                                                                                                                                                                                                                                                                                                                                                                                                                                                                                                                                                                                                                                                                                                                                                                                                                                                                                                                                                                                                                                                                                                                                                                                   \n",
       "[13] \"Running 5\"                                                                                                                                                                                                                                                                                                                                                                                                                                                                                                                                                                                                                                                                                                                                                                                                                                                                                                                                                                                                                                                                                                                                                                                                                                                                                                                                                                                                                                                                                                                                                                                                                                                                                                                                                                                                                                                                                                                                                                                                   \n",
       "[14] \"Running 6\"                                                                                                                                                                                                                                                                                                                                                                                                                                                                                                                                                                                                                                                                                                                                                                                                                                                                                                                                                                                                                                                                                                                                                                                                                                                                                                                                                                                                                                                                                                                                                                                                                                                                                                                                                                                                                                                                                                                                                                                                   \n",
       "[15] \"Running 7\"                                                                                                                                                                                                                                                                                                                                                                                                                                                                                                                                                                                                                                                                                                                                                                                                                                                                                                                                                                                                                                                                                                                                                                                                                                                                                                                                                                                                                                                                                                                                                                                                                                                                                                                                                                                                                                                                                                                                                                                                   \n",
       "[16] \"Running 8\"                                                                                                                                                                                                                                                                                                                                                                                                                                                                                                                                                                                                                                                                                                                                                                                                                                                                                                                                                                                                                                                                                                                                                                                                                                                                                                                                                                                                                                                                                                                                                                                                                                                                                                                                                                                                                                                                                                                                                                                                   \n",
       "[17] \"Running 9\"                                                                                                                                                                                                                                                                                                                                                                                                                                                                                                                                                                                                                                                                                                                                                                                                                                                                                                                                                                                                                                                                                                                                                                                                                                                                                                                                                                                                                                                                                                                                                                                                                                                                                                                                                                                                                                                                                                                                                                                                   \n",
       "[18] \"Running 10\"                                                                                                                                                                                                                                                                                                                                                                                                                                                                                                                                                                                                                                                                                                                                                                                                                                                                                                                                                                                                                                                                                                                                                                                                                                                                                                                                                                                                                                                                                                                                                                                                                                                                                                                                                                                                                                                                                                                                                                                                  \n",
       "[19] \"Finished sampling haha!\"                                                                                                                                                                                                                                                                                                                                                                                                                                                                                                                                                                                                                                                                                                                                                                                                                                                                                                                                                                                                                                                                                                                                                                                                                                                                                                                                                                                                                                                                                                                                                                                                                                                                                                                                                                                                                                                                                                                                                                                     "
      ]
     },
     "metadata": {},
     "output_type": "display_data"
    }
   ],
   "source": [
    "## main dir for Stan simulations\n",
    "standirname = stanmaindir%&%\"/lognormal-no_truncation\"\n",
    "unlink(standirname, recursive=T)\n",
    "dir.create(standirname)\n",
    "\n",
    "# Dumping data\n",
    "N = nrow(df)\n",
    "E_L = df$E_L\n",
    "E_R = df$E_R\n",
    "S_L = df$S_L\n",
    "S_R = df$S_R\n",
    "stan_rdump(c('E_L', 'E_R', 'S_L', 'S_R', 'N'), file=standirname%&%\"/Data.R\") \n",
    "\n",
    "# Dumping initial conditions\n",
    "e_raw = rep(.5, N)\n",
    "s_raw = rep(.5, N)\n",
    "logmean_SI = log(mean(df$dist))\n",
    "logsd_SI = log(sd(df$dist))\n",
    "stan_rdump(c('e_raw', 's_raw', 'logmean_SI', 'logsd_SI'), file=standirname%&%\"/Init.R\") \n",
    "\n",
    "# Stan program\n",
    "\"data {\n",
    "    int<lower = 0> N; // number of records\n",
    "    vector<lower = 0>[N] E_L;\n",
    "    vector<lower = 0>[N] E_R;\n",
    "    vector<lower = 0>[N] S_L;\n",
    "    vector<lower = 0>[N] S_R;\n",
    "}\n",
    "\n",
    "parameters {\n",
    "    real logmean_SI;\n",
    "    real logsd_SI;\n",
    "\n",
    "    vector<lower = 0, upper = 1>[N] s_raw;\n",
    "    vector<lower = 0, upper = 1>[N] e_raw;\n",
    "}\n",
    "\n",
    "transformed parameters {\n",
    "    real<lower = 0> param2 = sqrt(log((exp(2*(logsd_SI-logmean_SI))+1.0)));\n",
    "    real<lower = 0> param1 = logmean_SI - param2^2/2.0;\n",
    "\n",
    "    vector<lower = min(S_L), upper = max(S_R)>[N] s;\n",
    "    vector<lower = min(E_L), upper = max(E_R)>[N] e;\n",
    "    vector<lower = 0, upper = max(S_R)>[N] t;\n",
    "\n",
    "    {\n",
    "        vector[N] s_;\n",
    "\n",
    "        \n",
    "        s_ = S_L + (S_R - S_L) .* s_raw;\n",
    "        for (k in 1:N) {\n",
    "            if (s_[k] < E_L[k])\n",
    "                s[k] = E_L[k];\n",
    "            else \n",
    "                s[k] = s_[k];\n",
    "\n",
    "            if (E_R[k] > s[k]) \n",
    "                e[k] = E_L[k] + (s[k] - 1e-3 - E_L[k]) * e_raw[k];\n",
    "            else if (E_L[k] > s[k])\n",
    "                e[k] = s[k] - 1e-3;\n",
    "            else\n",
    "                e[k] = E_L[k] + (E_R[k] - E_L[k]) * e_raw[k];\n",
    "        }\n",
    "        t = s - e;\n",
    "    }\n",
    "}\n",
    "\n",
    "model {\n",
    "    logmean_SI ~ std_normal();\n",
    "    logsd_SI ~ std_normal();\n",
    "\n",
    "    e_raw ~ normal(0.5, 1.0);\n",
    "    s_raw ~ normal(0.5, 1.0);\n",
    "\n",
    "    t ~ lognormal(param1, param2);\n",
    "}\n",
    "\n",
    "generated quantities {\n",
    "    real<lower = 0> mean_SI = exp(param1 + param2^2/2);\n",
    "    real<lower = 0> sd_SI = sqrt((exp(param2^2)-1)*exp(2*param1+param2^2));\n",
    "\n",
    "    vector[N] log_likelihood;\n",
    "    for (k in 1:N) \n",
    "        log_likelihood[k] = lognormal_lpdf(t[k] | param1, param2);\n",
    "}\" %>% cat(file=standirname %&% \"/fit.stan\", sep=\"\", fill=TRUE)\n",
    "\n",
    "standistribdir = \"../../../CmdStan\"\n",
    "stanscriptdir = \"../Hokkaido_Wuhan_Serial_Interval_2020/scripts/Andrei/\"%&%standirname\n",
    "## bash file\n",
    "\"#!/bin/bash\n",
    "cwd=$(pwd)\n",
    "cd \"%&%standistribdir%&%\"\n",
    "make -j6 \"%&%stanscriptdir%&%\"/fit\n",
    "cd \"%&%stanscriptdir%&%\"\n",
    "mkdir -p diagnostics\n",
    "for i in {1..10}\n",
    "do\n",
    "    echo Running ${i}\n",
    "    SEEDNUMBER=$((1+$i))\n",
    "    ./fit \\\\\n",
    "        method=sample num_samples=10000 num_warmup=100000 save_warmup=0 \\\\\n",
    "            adapt delta=0.98 \\\\\n",
    "            algorithm=hmc \\\\\n",
    "                engine=nuts \\\\\n",
    "        random seed=${SEEDNUMBER} \\\\\n",
    "        id=$i \\\\\n",
    "        data file=Data.R \\\\\n",
    "        init=Init.R \\\\\n",
    "        output file=trace-$i.csv \\\\\n",
    "            diagnostic_file=diagnostics/diagnostics-$i.csv > diagnostics/output-$i.txt &\n",
    "done\n",
    "echo Finished sampling haha!\n",
    "\" %>% cat(file=standirname%&%\"/fit.sh\", sep=\"\", fill=TRUE)\n",
    "\n",
    "## running the bash script\n",
    "system(\"bash \"%&%standirname%&%\"/fit.sh\", intern = TRUE)"
   ]
  },
  {
   "cell_type": "markdown",
   "metadata": {},
   "source": [
    "## <font color=\"maroon\">Gamma distribution</font>"
   ]
  },
  {
   "cell_type": "code",
   "execution_count": 14,
   "metadata": {},
   "outputs": [
    {
     "data": {
      "text/html": [
       "<style>\n",
       ".list-inline {list-style: none; margin:0; padding: 0}\n",
       ".list-inline>li {display: inline-block}\n",
       ".list-inline>li:not(:last-child)::after {content: \"\\00b7\"; padding: 0 .5ex}\n",
       "</style>\n",
       "<ol class=list-inline><li>''</li><li>'--- Translating Stan model to C++ code ---'</li><li><span style=white-space:pre-wrap>'bin/stanc  --o=../Hokkaido_Wuhan_Serial_Interval_2020/scripts/Andrei/stan-sims-NEJMChina/gamma-no_truncation/fit.hpp ../Hokkaido_Wuhan_Serial_Interval_2020/scripts/Andrei/stan-sims-NEJMChina/gamma-no_truncation/fit.stan'</span></li><li><span style=white-space:pre-wrap>'mpicxx -fvisibility-inlines-hidden -std=c++17 -fmessage-length=0 -march=nocona -mtune=haswell -ftree-vectorize -fPIC -fstack-protector-strong -fno-plt -O2 -ffunction-sections -pipe -isystem /home/aakhmetz/anaconda3/include -std=c++1y -D_REENTRANT -Wno-sign-compare    -Wno-delete-non-virtual-dtor  -I stan/lib/stan_math/lib/tbb_2019_U8/include -O3 -I src -I stan/src -I lib/rapidjson_1.1.0/ -I stan/lib/stan_math/ -I stan/lib/stan_math/lib/eigen_3.3.3 -I stan/lib/stan_math/lib/boost_1.72.0 -I stan/lib/stan_math/lib/sundials_4.1.0/include -DNDEBUG -D_FORTIFY_SOURCE=2 -O2 -isystem /home/aakhmetz/anaconda3/include    -DBOOST_DISABLE_ASSERTS   -DSTAN_MPI   -c -MT ../Hokkaido_Wuhan_Serial_Interval_2020/scripts/Andrei/stan-sims-NEJMChina/gamma-no_truncation/fit.o -MT ../Hokkaido_Wuhan_Serial_Interval_2020/scripts/Andrei/stan-sims-NEJMChina/gamma-no_truncation/fit -include ../Hokkaido_Wuhan_Serial_Interval_2020/scripts/Andrei/stan-sims-NEJMChina/gamma-no_truncation/fit.hpp -include src/cmdstan/main.cpp -MM -E -MG -MP -MF ../Hokkaido_Wuhan_Serial_Interval_2020/scripts/Andrei/stan-sims-NEJMChina/gamma-no_truncation/fit.d ../Hokkaido_Wuhan_Serial_Interval_2020/scripts/Andrei/stan-sims-NEJMChina/gamma-no_truncation/fit.hpp'</span></li><li>''</li><li>'--- Compiling, linking C++ code ---'</li><li><span style=white-space:pre-wrap>'mpicxx -fvisibility-inlines-hidden -std=c++17 -fmessage-length=0 -march=nocona -mtune=haswell -ftree-vectorize -fPIC -fstack-protector-strong -fno-plt -O2 -ffunction-sections -pipe -isystem /home/aakhmetz/anaconda3/include -std=c++1y -D_REENTRANT -Wno-sign-compare    -Wno-delete-non-virtual-dtor  -I stan/lib/stan_math/lib/tbb_2019_U8/include -O3 -I src -I stan/src -I lib/rapidjson_1.1.0/ -I stan/lib/stan_math/ -I stan/lib/stan_math/lib/eigen_3.3.3 -I stan/lib/stan_math/lib/boost_1.72.0 -I stan/lib/stan_math/lib/sundials_4.1.0/include -DNDEBUG -D_FORTIFY_SOURCE=2 -O2 -isystem /home/aakhmetz/anaconda3/include    -DBOOST_DISABLE_ASSERTS   -DSTAN_MPI   -c  -x c++ -o ../Hokkaido_Wuhan_Serial_Interval_2020/scripts/Andrei/stan-sims-NEJMChina/gamma-no_truncation/fit.o ../Hokkaido_Wuhan_Serial_Interval_2020/scripts/Andrei/stan-sims-NEJMChina/gamma-no_truncation/fit.hpp'</span></li><li><span style=white-space:pre-wrap>'mpicxx -fvisibility-inlines-hidden -std=c++17 -fmessage-length=0 -march=nocona -mtune=haswell -ftree-vectorize -fPIC -fstack-protector-strong -fno-plt -O2 -ffunction-sections -pipe -isystem /home/aakhmetz/anaconda3/include -std=c++1y -D_REENTRANT -Wno-sign-compare    -Wno-delete-non-virtual-dtor  -I stan/lib/stan_math/lib/tbb_2019_U8/include -O3 -I src -I stan/src -I lib/rapidjson_1.1.0/ -I stan/lib/stan_math/ -I stan/lib/stan_math/lib/eigen_3.3.3 -I stan/lib/stan_math/lib/boost_1.72.0 -I stan/lib/stan_math/lib/sundials_4.1.0/include -DNDEBUG -D_FORTIFY_SOURCE=2 -O2 -isystem /home/aakhmetz/anaconda3/include    -DBOOST_DISABLE_ASSERTS   -DSTAN_MPI  -Wl,-O2 -Wl,--sort-common -Wl,--as-needed -Wl,-z,relro -Wl,-z,now -Wl,--disable-new-dtags -Wl,--gc-sections -Wl,-rpath,/home/aakhmetz/anaconda3/lib -Wl,-rpath-link,/home/aakhmetz/anaconda3/lib -L/home/aakhmetz/anaconda3/lib       -Wl,-L,\"/home/aakhmetz/Dropbox/CmdStan/stan/lib/stan_math/lib/boost_1.72.0/stage/lib\" -Wl,-rpath,\"/home/aakhmetz/Dropbox/CmdStan/stan/lib/stan_math/lib/boost_1.72.0/stage/lib\" -Wl,-L,\"/home/aakhmetz/Dropbox/CmdStan/stan/lib/stan_math/lib/tbb\" -Wl,-rpath,\"/home/aakhmetz/Dropbox/CmdStan/stan/lib/stan_math/lib/tbb\"  ../Hokkaido_Wuhan_Serial_Interval_2020/scripts/Andrei/stan-sims-NEJMChina/gamma-no_truncation/fit.o src/cmdstan/main.o         stan/lib/stan_math/lib/sundials_4.1.0/lib/libsundials_nvecserial.a stan/lib/stan_math/lib/sundials_4.1.0/lib/libsundials_cvodes.a stan/lib/stan_math/lib/sundials_4.1.0/lib/libsundials_idas.a stan/lib/stan_math/lib/sundials_4.1.0/lib/libsundials_kinsol.a stan/lib/stan_math/lib/boost_1.72.0/stage/lib/libboost_serialization.so stan/lib/stan_math/lib/boost_1.72.0/stage/lib/libboost_mpi.so stan/lib/stan_math/stan/math/prim/functor/mpi_cluster_inst.o stan/lib/stan_math/lib/tbb/libtbb.so.2 -o ../Hokkaido_Wuhan_Serial_Interval_2020/scripts/Andrei/stan-sims-NEJMChina/gamma-no_truncation/fit'</span></li><li>'Running 1'</li><li>'Running 2'</li><li>'Running 3'</li><li>'Running 4'</li><li>'Running 5'</li><li>'Running 6'</li><li>'Running 7'</li><li>'Running 8'</li><li>'Running 9'</li><li>'Running 10'</li><li>'Finished sampling haha!'</li></ol>\n"
      ],
      "text/latex": [
       "\\begin{enumerate*}\n",
       "\\item ''\n",
       "\\item '--- Translating Stan model to C++ code ---'\n",
       "\\item 'bin/stanc  --o=../Hokkaido\\_Wuhan\\_Serial\\_Interval\\_2020/scripts/Andrei/stan-sims-NEJMChina/gamma-no\\_truncation/fit.hpp ../Hokkaido\\_Wuhan\\_Serial\\_Interval\\_2020/scripts/Andrei/stan-sims-NEJMChina/gamma-no\\_truncation/fit.stan'\n",
       "\\item 'mpicxx -fvisibility-inlines-hidden -std=c++17 -fmessage-length=0 -march=nocona -mtune=haswell -ftree-vectorize -fPIC -fstack-protector-strong -fno-plt -O2 -ffunction-sections -pipe -isystem /home/aakhmetz/anaconda3/include -std=c++1y -D\\_REENTRANT -Wno-sign-compare    -Wno-delete-non-virtual-dtor  -I stan/lib/stan\\_math/lib/tbb\\_2019\\_U8/include -O3 -I src -I stan/src -I lib/rapidjson\\_1.1.0/ -I stan/lib/stan\\_math/ -I stan/lib/stan\\_math/lib/eigen\\_3.3.3 -I stan/lib/stan\\_math/lib/boost\\_1.72.0 -I stan/lib/stan\\_math/lib/sundials\\_4.1.0/include -DNDEBUG -D\\_FORTIFY\\_SOURCE=2 -O2 -isystem /home/aakhmetz/anaconda3/include    -DBOOST\\_DISABLE\\_ASSERTS   -DSTAN\\_MPI   -c -MT ../Hokkaido\\_Wuhan\\_Serial\\_Interval\\_2020/scripts/Andrei/stan-sims-NEJMChina/gamma-no\\_truncation/fit.o -MT ../Hokkaido\\_Wuhan\\_Serial\\_Interval\\_2020/scripts/Andrei/stan-sims-NEJMChina/gamma-no\\_truncation/fit -include ../Hokkaido\\_Wuhan\\_Serial\\_Interval\\_2020/scripts/Andrei/stan-sims-NEJMChina/gamma-no\\_truncation/fit.hpp -include src/cmdstan/main.cpp -MM -E -MG -MP -MF ../Hokkaido\\_Wuhan\\_Serial\\_Interval\\_2020/scripts/Andrei/stan-sims-NEJMChina/gamma-no\\_truncation/fit.d ../Hokkaido\\_Wuhan\\_Serial\\_Interval\\_2020/scripts/Andrei/stan-sims-NEJMChina/gamma-no\\_truncation/fit.hpp'\n",
       "\\item ''\n",
       "\\item '--- Compiling, linking C++ code ---'\n",
       "\\item 'mpicxx -fvisibility-inlines-hidden -std=c++17 -fmessage-length=0 -march=nocona -mtune=haswell -ftree-vectorize -fPIC -fstack-protector-strong -fno-plt -O2 -ffunction-sections -pipe -isystem /home/aakhmetz/anaconda3/include -std=c++1y -D\\_REENTRANT -Wno-sign-compare    -Wno-delete-non-virtual-dtor  -I stan/lib/stan\\_math/lib/tbb\\_2019\\_U8/include -O3 -I src -I stan/src -I lib/rapidjson\\_1.1.0/ -I stan/lib/stan\\_math/ -I stan/lib/stan\\_math/lib/eigen\\_3.3.3 -I stan/lib/stan\\_math/lib/boost\\_1.72.0 -I stan/lib/stan\\_math/lib/sundials\\_4.1.0/include -DNDEBUG -D\\_FORTIFY\\_SOURCE=2 -O2 -isystem /home/aakhmetz/anaconda3/include    -DBOOST\\_DISABLE\\_ASSERTS   -DSTAN\\_MPI   -c  -x c++ -o ../Hokkaido\\_Wuhan\\_Serial\\_Interval\\_2020/scripts/Andrei/stan-sims-NEJMChina/gamma-no\\_truncation/fit.o ../Hokkaido\\_Wuhan\\_Serial\\_Interval\\_2020/scripts/Andrei/stan-sims-NEJMChina/gamma-no\\_truncation/fit.hpp'\n",
       "\\item 'mpicxx -fvisibility-inlines-hidden -std=c++17 -fmessage-length=0 -march=nocona -mtune=haswell -ftree-vectorize -fPIC -fstack-protector-strong -fno-plt -O2 -ffunction-sections -pipe -isystem /home/aakhmetz/anaconda3/include -std=c++1y -D\\_REENTRANT -Wno-sign-compare    -Wno-delete-non-virtual-dtor  -I stan/lib/stan\\_math/lib/tbb\\_2019\\_U8/include -O3 -I src -I stan/src -I lib/rapidjson\\_1.1.0/ -I stan/lib/stan\\_math/ -I stan/lib/stan\\_math/lib/eigen\\_3.3.3 -I stan/lib/stan\\_math/lib/boost\\_1.72.0 -I stan/lib/stan\\_math/lib/sundials\\_4.1.0/include -DNDEBUG -D\\_FORTIFY\\_SOURCE=2 -O2 -isystem /home/aakhmetz/anaconda3/include    -DBOOST\\_DISABLE\\_ASSERTS   -DSTAN\\_MPI  -Wl,-O2 -Wl,--sort-common -Wl,--as-needed -Wl,-z,relro -Wl,-z,now -Wl,--disable-new-dtags -Wl,--gc-sections -Wl,-rpath,/home/aakhmetz/anaconda3/lib -Wl,-rpath-link,/home/aakhmetz/anaconda3/lib -L/home/aakhmetz/anaconda3/lib       -Wl,-L,\"/home/aakhmetz/Dropbox/CmdStan/stan/lib/stan\\_math/lib/boost\\_1.72.0/stage/lib\" -Wl,-rpath,\"/home/aakhmetz/Dropbox/CmdStan/stan/lib/stan\\_math/lib/boost\\_1.72.0/stage/lib\" -Wl,-L,\"/home/aakhmetz/Dropbox/CmdStan/stan/lib/stan\\_math/lib/tbb\" -Wl,-rpath,\"/home/aakhmetz/Dropbox/CmdStan/stan/lib/stan\\_math/lib/tbb\"  ../Hokkaido\\_Wuhan\\_Serial\\_Interval\\_2020/scripts/Andrei/stan-sims-NEJMChina/gamma-no\\_truncation/fit.o src/cmdstan/main.o         stan/lib/stan\\_math/lib/sundials\\_4.1.0/lib/libsundials\\_nvecserial.a stan/lib/stan\\_math/lib/sundials\\_4.1.0/lib/libsundials\\_cvodes.a stan/lib/stan\\_math/lib/sundials\\_4.1.0/lib/libsundials\\_idas.a stan/lib/stan\\_math/lib/sundials\\_4.1.0/lib/libsundials\\_kinsol.a stan/lib/stan\\_math/lib/boost\\_1.72.0/stage/lib/libboost\\_serialization.so stan/lib/stan\\_math/lib/boost\\_1.72.0/stage/lib/libboost\\_mpi.so stan/lib/stan\\_math/stan/math/prim/functor/mpi\\_cluster\\_inst.o stan/lib/stan\\_math/lib/tbb/libtbb.so.2 -o ../Hokkaido\\_Wuhan\\_Serial\\_Interval\\_2020/scripts/Andrei/stan-sims-NEJMChina/gamma-no\\_truncation/fit'\n",
       "\\item 'Running 1'\n",
       "\\item 'Running 2'\n",
       "\\item 'Running 3'\n",
       "\\item 'Running 4'\n",
       "\\item 'Running 5'\n",
       "\\item 'Running 6'\n",
       "\\item 'Running 7'\n",
       "\\item 'Running 8'\n",
       "\\item 'Running 9'\n",
       "\\item 'Running 10'\n",
       "\\item 'Finished sampling haha!'\n",
       "\\end{enumerate*}\n"
      ],
      "text/markdown": [
       "1. ''\n",
       "2. '--- Translating Stan model to C++ code ---'\n",
       "3. <span style=white-space:pre-wrap>'bin/stanc  --o=../Hokkaido_Wuhan_Serial_Interval_2020/scripts/Andrei/stan-sims-NEJMChina/gamma-no_truncation/fit.hpp ../Hokkaido_Wuhan_Serial_Interval_2020/scripts/Andrei/stan-sims-NEJMChina/gamma-no_truncation/fit.stan'</span>\n",
       "4. <span style=white-space:pre-wrap>'mpicxx -fvisibility-inlines-hidden -std=c++17 -fmessage-length=0 -march=nocona -mtune=haswell -ftree-vectorize -fPIC -fstack-protector-strong -fno-plt -O2 -ffunction-sections -pipe -isystem /home/aakhmetz/anaconda3/include -std=c++1y -D_REENTRANT -Wno-sign-compare    -Wno-delete-non-virtual-dtor  -I stan/lib/stan_math/lib/tbb_2019_U8/include -O3 -I src -I stan/src -I lib/rapidjson_1.1.0/ -I stan/lib/stan_math/ -I stan/lib/stan_math/lib/eigen_3.3.3 -I stan/lib/stan_math/lib/boost_1.72.0 -I stan/lib/stan_math/lib/sundials_4.1.0/include -DNDEBUG -D_FORTIFY_SOURCE=2 -O2 -isystem /home/aakhmetz/anaconda3/include    -DBOOST_DISABLE_ASSERTS   -DSTAN_MPI   -c -MT ../Hokkaido_Wuhan_Serial_Interval_2020/scripts/Andrei/stan-sims-NEJMChina/gamma-no_truncation/fit.o -MT ../Hokkaido_Wuhan_Serial_Interval_2020/scripts/Andrei/stan-sims-NEJMChina/gamma-no_truncation/fit -include ../Hokkaido_Wuhan_Serial_Interval_2020/scripts/Andrei/stan-sims-NEJMChina/gamma-no_truncation/fit.hpp -include src/cmdstan/main.cpp -MM -E -MG -MP -MF ../Hokkaido_Wuhan_Serial_Interval_2020/scripts/Andrei/stan-sims-NEJMChina/gamma-no_truncation/fit.d ../Hokkaido_Wuhan_Serial_Interval_2020/scripts/Andrei/stan-sims-NEJMChina/gamma-no_truncation/fit.hpp'</span>\n",
       "5. ''\n",
       "6. '--- Compiling, linking C++ code ---'\n",
       "7. <span style=white-space:pre-wrap>'mpicxx -fvisibility-inlines-hidden -std=c++17 -fmessage-length=0 -march=nocona -mtune=haswell -ftree-vectorize -fPIC -fstack-protector-strong -fno-plt -O2 -ffunction-sections -pipe -isystem /home/aakhmetz/anaconda3/include -std=c++1y -D_REENTRANT -Wno-sign-compare    -Wno-delete-non-virtual-dtor  -I stan/lib/stan_math/lib/tbb_2019_U8/include -O3 -I src -I stan/src -I lib/rapidjson_1.1.0/ -I stan/lib/stan_math/ -I stan/lib/stan_math/lib/eigen_3.3.3 -I stan/lib/stan_math/lib/boost_1.72.0 -I stan/lib/stan_math/lib/sundials_4.1.0/include -DNDEBUG -D_FORTIFY_SOURCE=2 -O2 -isystem /home/aakhmetz/anaconda3/include    -DBOOST_DISABLE_ASSERTS   -DSTAN_MPI   -c  -x c++ -o ../Hokkaido_Wuhan_Serial_Interval_2020/scripts/Andrei/stan-sims-NEJMChina/gamma-no_truncation/fit.o ../Hokkaido_Wuhan_Serial_Interval_2020/scripts/Andrei/stan-sims-NEJMChina/gamma-no_truncation/fit.hpp'</span>\n",
       "8. <span style=white-space:pre-wrap>'mpicxx -fvisibility-inlines-hidden -std=c++17 -fmessage-length=0 -march=nocona -mtune=haswell -ftree-vectorize -fPIC -fstack-protector-strong -fno-plt -O2 -ffunction-sections -pipe -isystem /home/aakhmetz/anaconda3/include -std=c++1y -D_REENTRANT -Wno-sign-compare    -Wno-delete-non-virtual-dtor  -I stan/lib/stan_math/lib/tbb_2019_U8/include -O3 -I src -I stan/src -I lib/rapidjson_1.1.0/ -I stan/lib/stan_math/ -I stan/lib/stan_math/lib/eigen_3.3.3 -I stan/lib/stan_math/lib/boost_1.72.0 -I stan/lib/stan_math/lib/sundials_4.1.0/include -DNDEBUG -D_FORTIFY_SOURCE=2 -O2 -isystem /home/aakhmetz/anaconda3/include    -DBOOST_DISABLE_ASSERTS   -DSTAN_MPI  -Wl,-O2 -Wl,--sort-common -Wl,--as-needed -Wl,-z,relro -Wl,-z,now -Wl,--disable-new-dtags -Wl,--gc-sections -Wl,-rpath,/home/aakhmetz/anaconda3/lib -Wl,-rpath-link,/home/aakhmetz/anaconda3/lib -L/home/aakhmetz/anaconda3/lib       -Wl,-L,\"/home/aakhmetz/Dropbox/CmdStan/stan/lib/stan_math/lib/boost_1.72.0/stage/lib\" -Wl,-rpath,\"/home/aakhmetz/Dropbox/CmdStan/stan/lib/stan_math/lib/boost_1.72.0/stage/lib\" -Wl,-L,\"/home/aakhmetz/Dropbox/CmdStan/stan/lib/stan_math/lib/tbb\" -Wl,-rpath,\"/home/aakhmetz/Dropbox/CmdStan/stan/lib/stan_math/lib/tbb\"  ../Hokkaido_Wuhan_Serial_Interval_2020/scripts/Andrei/stan-sims-NEJMChina/gamma-no_truncation/fit.o src/cmdstan/main.o         stan/lib/stan_math/lib/sundials_4.1.0/lib/libsundials_nvecserial.a stan/lib/stan_math/lib/sundials_4.1.0/lib/libsundials_cvodes.a stan/lib/stan_math/lib/sundials_4.1.0/lib/libsundials_idas.a stan/lib/stan_math/lib/sundials_4.1.0/lib/libsundials_kinsol.a stan/lib/stan_math/lib/boost_1.72.0/stage/lib/libboost_serialization.so stan/lib/stan_math/lib/boost_1.72.0/stage/lib/libboost_mpi.so stan/lib/stan_math/stan/math/prim/functor/mpi_cluster_inst.o stan/lib/stan_math/lib/tbb/libtbb.so.2 -o ../Hokkaido_Wuhan_Serial_Interval_2020/scripts/Andrei/stan-sims-NEJMChina/gamma-no_truncation/fit'</span>\n",
       "9. 'Running 1'\n",
       "10. 'Running 2'\n",
       "11. 'Running 3'\n",
       "12. 'Running 4'\n",
       "13. 'Running 5'\n",
       "14. 'Running 6'\n",
       "15. 'Running 7'\n",
       "16. 'Running 8'\n",
       "17. 'Running 9'\n",
       "18. 'Running 10'\n",
       "19. 'Finished sampling haha!'\n",
       "\n",
       "\n"
      ],
      "text/plain": [
       " [1] \"\"                                                                                                                                                                                                                                                                                                                                                                                                                                                                                                                                                                                                                                                                                                                                                                                                                                                                                                                                                                                                                                                                                                                                                                                                                                                                                                                                                                                                                                                                                                                                                                                                                                                                                                                                                                                                                                                                                                                                                                                                    \n",
       " [2] \"--- Translating Stan model to C++ code ---\"                                                                                                                                                                                                                                                                                                                                                                                                                                                                                                                                                                                                                                                                                                                                                                                                                                                                                                                                                                                                                                                                                                                                                                                                                                                                                                                                                                                                                                                                                                                                                                                                                                                                                                                                                                                                                                                                                                                                                          \n",
       " [3] \"bin/stanc  --o=../Hokkaido_Wuhan_Serial_Interval_2020/scripts/Andrei/stan-sims-NEJMChina/gamma-no_truncation/fit.hpp ../Hokkaido_Wuhan_Serial_Interval_2020/scripts/Andrei/stan-sims-NEJMChina/gamma-no_truncation/fit.stan\"                                                                                                                                                                                                                                                                                                                                                                                                                                                                                                                                                                                                                                                                                                                                                                                                                                                                                                                                                                                                                                                                                                                                                                                                                                                                                                                                                                                                                                                                                                                                                                                                                                                                                                                                                                         \n",
       " [4] \"mpicxx -fvisibility-inlines-hidden -std=c++17 -fmessage-length=0 -march=nocona -mtune=haswell -ftree-vectorize -fPIC -fstack-protector-strong -fno-plt -O2 -ffunction-sections -pipe -isystem /home/aakhmetz/anaconda3/include -std=c++1y -D_REENTRANT -Wno-sign-compare    -Wno-delete-non-virtual-dtor  -I stan/lib/stan_math/lib/tbb_2019_U8/include -O3 -I src -I stan/src -I lib/rapidjson_1.1.0/ -I stan/lib/stan_math/ -I stan/lib/stan_math/lib/eigen_3.3.3 -I stan/lib/stan_math/lib/boost_1.72.0 -I stan/lib/stan_math/lib/sundials_4.1.0/include -DNDEBUG -D_FORTIFY_SOURCE=2 -O2 -isystem /home/aakhmetz/anaconda3/include    -DBOOST_DISABLE_ASSERTS   -DSTAN_MPI   -c -MT ../Hokkaido_Wuhan_Serial_Interval_2020/scripts/Andrei/stan-sims-NEJMChina/gamma-no_truncation/fit.o -MT ../Hokkaido_Wuhan_Serial_Interval_2020/scripts/Andrei/stan-sims-NEJMChina/gamma-no_truncation/fit -include ../Hokkaido_Wuhan_Serial_Interval_2020/scripts/Andrei/stan-sims-NEJMChina/gamma-no_truncation/fit.hpp -include src/cmdstan/main.cpp -MM -E -MG -MP -MF ../Hokkaido_Wuhan_Serial_Interval_2020/scripts/Andrei/stan-sims-NEJMChina/gamma-no_truncation/fit.d ../Hokkaido_Wuhan_Serial_Interval_2020/scripts/Andrei/stan-sims-NEJMChina/gamma-no_truncation/fit.hpp\"                                                                                                                                                                                                                                                                                                                                                                                                                                                                                                                                                                                                                                                                                                                         \n",
       " [5] \"\"                                                                                                                                                                                                                                                                                                                                                                                                                                                                                                                                                                                                                                                                                                                                                                                                                                                                                                                                                                                                                                                                                                                                                                                                                                                                                                                                                                                                                                                                                                                                                                                                                                                                                                                                                                                                                                                                                                                                                                                                    \n",
       " [6] \"--- Compiling, linking C++ code ---\"                                                                                                                                                                                                                                                                                                                                                                                                                                                                                                                                                                                                                                                                                                                                                                                                                                                                                                                                                                                                                                                                                                                                                                                                                                                                                                                                                                                                                                                                                                                                                                                                                                                                                                                                                                                                                                                                                                                                                                 \n",
       " [7] \"mpicxx -fvisibility-inlines-hidden -std=c++17 -fmessage-length=0 -march=nocona -mtune=haswell -ftree-vectorize -fPIC -fstack-protector-strong -fno-plt -O2 -ffunction-sections -pipe -isystem /home/aakhmetz/anaconda3/include -std=c++1y -D_REENTRANT -Wno-sign-compare    -Wno-delete-non-virtual-dtor  -I stan/lib/stan_math/lib/tbb_2019_U8/include -O3 -I src -I stan/src -I lib/rapidjson_1.1.0/ -I stan/lib/stan_math/ -I stan/lib/stan_math/lib/eigen_3.3.3 -I stan/lib/stan_math/lib/boost_1.72.0 -I stan/lib/stan_math/lib/sundials_4.1.0/include -DNDEBUG -D_FORTIFY_SOURCE=2 -O2 -isystem /home/aakhmetz/anaconda3/include    -DBOOST_DISABLE_ASSERTS   -DSTAN_MPI   -c  -x c++ -o ../Hokkaido_Wuhan_Serial_Interval_2020/scripts/Andrei/stan-sims-NEJMChina/gamma-no_truncation/fit.o ../Hokkaido_Wuhan_Serial_Interval_2020/scripts/Andrei/stan-sims-NEJMChina/gamma-no_truncation/fit.hpp\"                                                                                                                                                                                                                                                                                                                                                                                                                                                                                                                                                                                                                                                                                                                                                                                                                                                                                                                                                                                                                                                                                            \n",
       " [8] \"mpicxx -fvisibility-inlines-hidden -std=c++17 -fmessage-length=0 -march=nocona -mtune=haswell -ftree-vectorize -fPIC -fstack-protector-strong -fno-plt -O2 -ffunction-sections -pipe -isystem /home/aakhmetz/anaconda3/include -std=c++1y -D_REENTRANT -Wno-sign-compare    -Wno-delete-non-virtual-dtor  -I stan/lib/stan_math/lib/tbb_2019_U8/include -O3 -I src -I stan/src -I lib/rapidjson_1.1.0/ -I stan/lib/stan_math/ -I stan/lib/stan_math/lib/eigen_3.3.3 -I stan/lib/stan_math/lib/boost_1.72.0 -I stan/lib/stan_math/lib/sundials_4.1.0/include -DNDEBUG -D_FORTIFY_SOURCE=2 -O2 -isystem /home/aakhmetz/anaconda3/include    -DBOOST_DISABLE_ASSERTS   -DSTAN_MPI  -Wl,-O2 -Wl,--sort-common -Wl,--as-needed -Wl,-z,relro -Wl,-z,now -Wl,--disable-new-dtags -Wl,--gc-sections -Wl,-rpath,/home/aakhmetz/anaconda3/lib -Wl,-rpath-link,/home/aakhmetz/anaconda3/lib -L/home/aakhmetz/anaconda3/lib       -Wl,-L,\\\"/home/aakhmetz/Dropbox/CmdStan/stan/lib/stan_math/lib/boost_1.72.0/stage/lib\\\" -Wl,-rpath,\\\"/home/aakhmetz/Dropbox/CmdStan/stan/lib/stan_math/lib/boost_1.72.0/stage/lib\\\" -Wl,-L,\\\"/home/aakhmetz/Dropbox/CmdStan/stan/lib/stan_math/lib/tbb\\\" -Wl,-rpath,\\\"/home/aakhmetz/Dropbox/CmdStan/stan/lib/stan_math/lib/tbb\\\"  ../Hokkaido_Wuhan_Serial_Interval_2020/scripts/Andrei/stan-sims-NEJMChina/gamma-no_truncation/fit.o src/cmdstan/main.o         stan/lib/stan_math/lib/sundials_4.1.0/lib/libsundials_nvecserial.a stan/lib/stan_math/lib/sundials_4.1.0/lib/libsundials_cvodes.a stan/lib/stan_math/lib/sundials_4.1.0/lib/libsundials_idas.a stan/lib/stan_math/lib/sundials_4.1.0/lib/libsundials_kinsol.a stan/lib/stan_math/lib/boost_1.72.0/stage/lib/libboost_serialization.so stan/lib/stan_math/lib/boost_1.72.0/stage/lib/libboost_mpi.so stan/lib/stan_math/stan/math/prim/functor/mpi_cluster_inst.o stan/lib/stan_math/lib/tbb/libtbb.so.2 -o ../Hokkaido_Wuhan_Serial_Interval_2020/scripts/Andrei/stan-sims-NEJMChina/gamma-no_truncation/fit\"\n",
       " [9] \"Running 1\"                                                                                                                                                                                                                                                                                                                                                                                                                                                                                                                                                                                                                                                                                                                                                                                                                                                                                                                                                                                                                                                                                                                                                                                                                                                                                                                                                                                                                                                                                                                                                                                                                                                                                                                                                                                                                                                                                                                                                                                           \n",
       "[10] \"Running 2\"                                                                                                                                                                                                                                                                                                                                                                                                                                                                                                                                                                                                                                                                                                                                                                                                                                                                                                                                                                                                                                                                                                                                                                                                                                                                                                                                                                                                                                                                                                                                                                                                                                                                                                                                                                                                                                                                                                                                                                                           \n",
       "[11] \"Running 3\"                                                                                                                                                                                                                                                                                                                                                                                                                                                                                                                                                                                                                                                                                                                                                                                                                                                                                                                                                                                                                                                                                                                                                                                                                                                                                                                                                                                                                                                                                                                                                                                                                                                                                                                                                                                                                                                                                                                                                                                           \n",
       "[12] \"Running 4\"                                                                                                                                                                                                                                                                                                                                                                                                                                                                                                                                                                                                                                                                                                                                                                                                                                                                                                                                                                                                                                                                                                                                                                                                                                                                                                                                                                                                                                                                                                                                                                                                                                                                                                                                                                                                                                                                                                                                                                                           \n",
       "[13] \"Running 5\"                                                                                                                                                                                                                                                                                                                                                                                                                                                                                                                                                                                                                                                                                                                                                                                                                                                                                                                                                                                                                                                                                                                                                                                                                                                                                                                                                                                                                                                                                                                                                                                                                                                                                                                                                                                                                                                                                                                                                                                           \n",
       "[14] \"Running 6\"                                                                                                                                                                                                                                                                                                                                                                                                                                                                                                                                                                                                                                                                                                                                                                                                                                                                                                                                                                                                                                                                                                                                                                                                                                                                                                                                                                                                                                                                                                                                                                                                                                                                                                                                                                                                                                                                                                                                                                                           \n",
       "[15] \"Running 7\"                                                                                                                                                                                                                                                                                                                                                                                                                                                                                                                                                                                                                                                                                                                                                                                                                                                                                                                                                                                                                                                                                                                                                                                                                                                                                                                                                                                                                                                                                                                                                                                                                                                                                                                                                                                                                                                                                                                                                                                           \n",
       "[16] \"Running 8\"                                                                                                                                                                                                                                                                                                                                                                                                                                                                                                                                                                                                                                                                                                                                                                                                                                                                                                                                                                                                                                                                                                                                                                                                                                                                                                                                                                                                                                                                                                                                                                                                                                                                                                                                                                                                                                                                                                                                                                                           \n",
       "[17] \"Running 9\"                                                                                                                                                                                                                                                                                                                                                                                                                                                                                                                                                                                                                                                                                                                                                                                                                                                                                                                                                                                                                                                                                                                                                                                                                                                                                                                                                                                                                                                                                                                                                                                                                                                                                                                                                                                                                                                                                                                                                                                           \n",
       "[18] \"Running 10\"                                                                                                                                                                                                                                                                                                                                                                                                                                                                                                                                                                                                                                                                                                                                                                                                                                                                                                                                                                                                                                                                                                                                                                                                                                                                                                                                                                                                                                                                                                                                                                                                                                                                                                                                                                                                                                                                                                                                                                                          \n",
       "[19] \"Finished sampling haha!\"                                                                                                                                                                                                                                                                                                                                                                                                                                                                                                                                                                                                                                                                                                                                                                                                                                                                                                                                                                                                                                                                                                                                                                                                                                                                                                                                                                                                                                                                                                                                                                                                                                                                                                                                                                                                                                                                                                                                                                             "
      ]
     },
     "metadata": {},
     "output_type": "display_data"
    }
   ],
   "source": [
    "## main dir for Stan simulations\n",
    "standirname = stanmaindir%&%\"/gamma-no_truncation\"\n",
    "unlink(standirname, recursive=T)\n",
    "dir.create(standirname)\n",
    "\n",
    "# Dumping data\n",
    "N = nrow(df)\n",
    "E_L = df$E_L\n",
    "E_R = df$E_R\n",
    "S_L = df$S_L\n",
    "S_R = df$S_R\n",
    "stan_rdump(c('E_L', 'E_R', 'S_L', 'S_R', 'N'), file=standirname%&%\"/Data.R\") \n",
    "\n",
    "# Dumping initial conditions\n",
    "e_raw = rep(.2, N)\n",
    "s_raw = rep(.8, N)\n",
    "param1 = (mean(df$dist)/sd(df$dist))^2\n",
    "param2 = mean(df$dist)/(sd(df$dist)^2)\n",
    "stan_rdump(c('e_raw', 's_raw', 'param1', 'param2'), file=standirname%&%\"/Init.R\") \n",
    "\n",
    "# Stan program\n",
    "\"data {\n",
    "    int<lower = 0> N; // number of records\n",
    "    vector<lower = 0>[N] E_L;\n",
    "    vector<lower = 0>[N] E_R;\n",
    "    vector<lower = 0>[N] S_L;\n",
    "    vector<lower = 0>[N] S_R;\n",
    "}\n",
    "\n",
    "parameters {\n",
    "    real<lower=0> mean_SI;\n",
    "    real<lower=0> sd_SI;\n",
    "\n",
    "    vector<lower = 0, upper = 1>[N] e_raw;\n",
    "    vector<lower = 0, upper = 1>[N] s_raw;\n",
    "}\n",
    "\n",
    "transformed parameters {\n",
    "    real<lower = 0> param1 = (mean_SI/sd_SI)^2;\n",
    "    real<lower = 0> param2 = mean_SI/(sd_SI^2);\n",
    "\n",
    "    vector<lower = min(S_L), upper = max(S_R)>[N] s;\n",
    "    vector<lower = min(E_L), upper = max(E_R)>[N] e;\n",
    "    vector<lower = 0, upper = max(S_R)>[N] t;\n",
    "\n",
    "    {\n",
    "        vector[N] s_;\n",
    "        \n",
    "        s_ = S_L + (S_R - S_L) .* s_raw;\n",
    "        for (k in 1:N) {\n",
    "            if (s_[k] < E_L[k])\n",
    "                s[k] = E_L[k];\n",
    "            else \n",
    "                s[k] = s_[k];\n",
    "\n",
    "            if (E_R[k] > s[k]) \n",
    "                e[k] = E_L[k] + (s[k] - 1e-3 - E_L[k]) * e_raw[k];\n",
    "            else if (E_L[k] > s[k])\n",
    "                e[k] = s[k] - 1e-3;\n",
    "            else\n",
    "                e[k] = E_L[k] + (E_R[k] - E_L[k]) * e_raw[k];\n",
    "        }\n",
    "        t = s - e;\n",
    "    }\n",
    "}\n",
    "\n",
    "model {\n",
    "    mean_SI ~ normal(5.0, 10.0);\n",
    "    sd_SI ~ cauchy(0, 5.0);\n",
    "\n",
    "    e_raw ~ normal(0.5, 1.0);\n",
    "    s_raw ~ normal(0.5, 1.0);\n",
    "\n",
    "    t ~ gamma(param1, param2);\n",
    "}\n",
    "\n",
    "generated quantities {\n",
    "    vector[N] log_likelihood;\n",
    "    for (k in 1:N) \n",
    "        log_likelihood[k] = gamma_lpdf(t[k] | param1, param2);\n",
    "}\" %>% cat(file=standirname %&% \"/fit.stan\", sep=\"\", fill=TRUE)\n",
    "\n",
    "standistribdir = \"../../../CmdStan\"\n",
    "stanscriptdir = \"../Hokkaido_Wuhan_Serial_Interval_2020/scripts/Andrei/\"%&%standirname\n",
    "## bash file\n",
    "\"#!/bin/bash\n",
    "cwd=$(pwd)\n",
    "cd \"%&%standistribdir%&%\"\n",
    "make -j6 \"%&%stanscriptdir%&%\"/fit\n",
    "cd \"%&%stanscriptdir%&%\"\n",
    "mkdir -p diagnostics\n",
    "for i in {1..10}\n",
    "do\n",
    "    echo Running ${i}\n",
    "    SEEDNUMBER=$((1+$i))\n",
    "    ./fit \\\\\n",
    "        method=sample num_samples=10000 num_warmup=100000 save_warmup=0 \\\\\n",
    "            adapt delta=0.98 \\\\\n",
    "            algorithm=hmc \\\\\n",
    "                engine=nuts \\\\\n",
    "        random seed=${SEEDNUMBER} \\\\\n",
    "        id=$i \\\\\n",
    "        data file=Data.R \\\\\n",
    "        init=Init.R \\\\\n",
    "        output file=trace-$i.csv \\\\\n",
    "            refresh=1000 \\\\\n",
    "            diagnostic_file=diagnostics/diagnostics-$i.csv > diagnostics/output-$i.txt &\n",
    "done\n",
    "echo Finished sampling haha!\n",
    "\" %>% cat(file=standirname%&%\"/fit.sh\", sep=\"\", fill=TRUE)\n",
    "\n",
    "## running the bash script\n",
    "system(\"bash \"%&%standirname%&%\"/fit.sh\", intern = TRUE)"
   ]
  },
  {
   "cell_type": "markdown",
   "metadata": {},
   "source": [
    "## <font color=\"maroon\">Weibull distribution</font>"
   ]
  },
  {
   "cell_type": "code",
   "execution_count": 13,
   "metadata": {},
   "outputs": [
    {
     "data": {
      "text/html": [
       "<style>\n",
       ".list-inline {list-style: none; margin:0; padding: 0}\n",
       ".list-inline>li {display: inline-block}\n",
       ".list-inline>li:not(:last-child)::after {content: \"\\00b7\"; padding: 0 .5ex}\n",
       "</style>\n",
       "<ol class=list-inline><li>''</li><li>'--- Translating Stan model to C++ code ---'</li><li><span style=white-space:pre-wrap>'bin/stanc  --o=../Hokkaido_Wuhan_Serial_Interval_2020/scripts/Andrei/stan-sims-NEJMChina/weibull-no_truncation/fit.hpp ../Hokkaido_Wuhan_Serial_Interval_2020/scripts/Andrei/stan-sims-NEJMChina/weibull-no_truncation/fit.stan'</span></li><li><span style=white-space:pre-wrap>'mpicxx -fvisibility-inlines-hidden -std=c++17 -fmessage-length=0 -march=nocona -mtune=haswell -ftree-vectorize -fPIC -fstack-protector-strong -fno-plt -O2 -ffunction-sections -pipe -isystem /home/aakhmetz/anaconda3/include -std=c++1y -D_REENTRANT -Wno-sign-compare    -Wno-delete-non-virtual-dtor  -I stan/lib/stan_math/lib/tbb_2019_U8/include -O3 -I src -I stan/src -I lib/rapidjson_1.1.0/ -I stan/lib/stan_math/ -I stan/lib/stan_math/lib/eigen_3.3.3 -I stan/lib/stan_math/lib/boost_1.72.0 -I stan/lib/stan_math/lib/sundials_4.1.0/include -DNDEBUG -D_FORTIFY_SOURCE=2 -O2 -isystem /home/aakhmetz/anaconda3/include    -DBOOST_DISABLE_ASSERTS   -DSTAN_MPI   -c -MT ../Hokkaido_Wuhan_Serial_Interval_2020/scripts/Andrei/stan-sims-NEJMChina/weibull-no_truncation/fit.o -MT ../Hokkaido_Wuhan_Serial_Interval_2020/scripts/Andrei/stan-sims-NEJMChina/weibull-no_truncation/fit -include ../Hokkaido_Wuhan_Serial_Interval_2020/scripts/Andrei/stan-sims-NEJMChina/weibull-no_truncation/fit.hpp -include src/cmdstan/main.cpp -MM -E -MG -MP -MF ../Hokkaido_Wuhan_Serial_Interval_2020/scripts/Andrei/stan-sims-NEJMChina/weibull-no_truncation/fit.d ../Hokkaido_Wuhan_Serial_Interval_2020/scripts/Andrei/stan-sims-NEJMChina/weibull-no_truncation/fit.hpp'</span></li><li>''</li><li>'--- Compiling, linking C++ code ---'</li><li><span style=white-space:pre-wrap>'mpicxx -fvisibility-inlines-hidden -std=c++17 -fmessage-length=0 -march=nocona -mtune=haswell -ftree-vectorize -fPIC -fstack-protector-strong -fno-plt -O2 -ffunction-sections -pipe -isystem /home/aakhmetz/anaconda3/include -std=c++1y -D_REENTRANT -Wno-sign-compare    -Wno-delete-non-virtual-dtor  -I stan/lib/stan_math/lib/tbb_2019_U8/include -O3 -I src -I stan/src -I lib/rapidjson_1.1.0/ -I stan/lib/stan_math/ -I stan/lib/stan_math/lib/eigen_3.3.3 -I stan/lib/stan_math/lib/boost_1.72.0 -I stan/lib/stan_math/lib/sundials_4.1.0/include -DNDEBUG -D_FORTIFY_SOURCE=2 -O2 -isystem /home/aakhmetz/anaconda3/include    -DBOOST_DISABLE_ASSERTS   -DSTAN_MPI   -c  -x c++ -o ../Hokkaido_Wuhan_Serial_Interval_2020/scripts/Andrei/stan-sims-NEJMChina/weibull-no_truncation/fit.o ../Hokkaido_Wuhan_Serial_Interval_2020/scripts/Andrei/stan-sims-NEJMChina/weibull-no_truncation/fit.hpp'</span></li><li><span style=white-space:pre-wrap>'mpicxx -fvisibility-inlines-hidden -std=c++17 -fmessage-length=0 -march=nocona -mtune=haswell -ftree-vectorize -fPIC -fstack-protector-strong -fno-plt -O2 -ffunction-sections -pipe -isystem /home/aakhmetz/anaconda3/include -std=c++1y -D_REENTRANT -Wno-sign-compare    -Wno-delete-non-virtual-dtor  -I stan/lib/stan_math/lib/tbb_2019_U8/include -O3 -I src -I stan/src -I lib/rapidjson_1.1.0/ -I stan/lib/stan_math/ -I stan/lib/stan_math/lib/eigen_3.3.3 -I stan/lib/stan_math/lib/boost_1.72.0 -I stan/lib/stan_math/lib/sundials_4.1.0/include -DNDEBUG -D_FORTIFY_SOURCE=2 -O2 -isystem /home/aakhmetz/anaconda3/include    -DBOOST_DISABLE_ASSERTS   -DSTAN_MPI  -Wl,-O2 -Wl,--sort-common -Wl,--as-needed -Wl,-z,relro -Wl,-z,now -Wl,--disable-new-dtags -Wl,--gc-sections -Wl,-rpath,/home/aakhmetz/anaconda3/lib -Wl,-rpath-link,/home/aakhmetz/anaconda3/lib -L/home/aakhmetz/anaconda3/lib       -Wl,-L,\"/home/aakhmetz/Dropbox/CmdStan/stan/lib/stan_math/lib/boost_1.72.0/stage/lib\" -Wl,-rpath,\"/home/aakhmetz/Dropbox/CmdStan/stan/lib/stan_math/lib/boost_1.72.0/stage/lib\" -Wl,-L,\"/home/aakhmetz/Dropbox/CmdStan/stan/lib/stan_math/lib/tbb\" -Wl,-rpath,\"/home/aakhmetz/Dropbox/CmdStan/stan/lib/stan_math/lib/tbb\"  ../Hokkaido_Wuhan_Serial_Interval_2020/scripts/Andrei/stan-sims-NEJMChina/weibull-no_truncation/fit.o src/cmdstan/main.o         stan/lib/stan_math/lib/sundials_4.1.0/lib/libsundials_nvecserial.a stan/lib/stan_math/lib/sundials_4.1.0/lib/libsundials_cvodes.a stan/lib/stan_math/lib/sundials_4.1.0/lib/libsundials_idas.a stan/lib/stan_math/lib/sundials_4.1.0/lib/libsundials_kinsol.a stan/lib/stan_math/lib/boost_1.72.0/stage/lib/libboost_serialization.so stan/lib/stan_math/lib/boost_1.72.0/stage/lib/libboost_mpi.so stan/lib/stan_math/stan/math/prim/functor/mpi_cluster_inst.o stan/lib/stan_math/lib/tbb/libtbb.so.2 -o ../Hokkaido_Wuhan_Serial_Interval_2020/scripts/Andrei/stan-sims-NEJMChina/weibull-no_truncation/fit'</span></li><li>'Running 1'</li><li>'Running 2'</li><li>'Running 3'</li><li>'Running 4'</li><li>'Running 5'</li><li>'Running 6'</li><li>'Running 7'</li><li>'Running 8'</li><li>'Running 9'</li><li>'Running 10'</li><li>'Finished sampling haha!'</li></ol>\n"
      ],
      "text/latex": [
       "\\begin{enumerate*}\n",
       "\\item ''\n",
       "\\item '--- Translating Stan model to C++ code ---'\n",
       "\\item 'bin/stanc  --o=../Hokkaido\\_Wuhan\\_Serial\\_Interval\\_2020/scripts/Andrei/stan-sims-NEJMChina/weibull-no\\_truncation/fit.hpp ../Hokkaido\\_Wuhan\\_Serial\\_Interval\\_2020/scripts/Andrei/stan-sims-NEJMChina/weibull-no\\_truncation/fit.stan'\n",
       "\\item 'mpicxx -fvisibility-inlines-hidden -std=c++17 -fmessage-length=0 -march=nocona -mtune=haswell -ftree-vectorize -fPIC -fstack-protector-strong -fno-plt -O2 -ffunction-sections -pipe -isystem /home/aakhmetz/anaconda3/include -std=c++1y -D\\_REENTRANT -Wno-sign-compare    -Wno-delete-non-virtual-dtor  -I stan/lib/stan\\_math/lib/tbb\\_2019\\_U8/include -O3 -I src -I stan/src -I lib/rapidjson\\_1.1.0/ -I stan/lib/stan\\_math/ -I stan/lib/stan\\_math/lib/eigen\\_3.3.3 -I stan/lib/stan\\_math/lib/boost\\_1.72.0 -I stan/lib/stan\\_math/lib/sundials\\_4.1.0/include -DNDEBUG -D\\_FORTIFY\\_SOURCE=2 -O2 -isystem /home/aakhmetz/anaconda3/include    -DBOOST\\_DISABLE\\_ASSERTS   -DSTAN\\_MPI   -c -MT ../Hokkaido\\_Wuhan\\_Serial\\_Interval\\_2020/scripts/Andrei/stan-sims-NEJMChina/weibull-no\\_truncation/fit.o -MT ../Hokkaido\\_Wuhan\\_Serial\\_Interval\\_2020/scripts/Andrei/stan-sims-NEJMChina/weibull-no\\_truncation/fit -include ../Hokkaido\\_Wuhan\\_Serial\\_Interval\\_2020/scripts/Andrei/stan-sims-NEJMChina/weibull-no\\_truncation/fit.hpp -include src/cmdstan/main.cpp -MM -E -MG -MP -MF ../Hokkaido\\_Wuhan\\_Serial\\_Interval\\_2020/scripts/Andrei/stan-sims-NEJMChina/weibull-no\\_truncation/fit.d ../Hokkaido\\_Wuhan\\_Serial\\_Interval\\_2020/scripts/Andrei/stan-sims-NEJMChina/weibull-no\\_truncation/fit.hpp'\n",
       "\\item ''\n",
       "\\item '--- Compiling, linking C++ code ---'\n",
       "\\item 'mpicxx -fvisibility-inlines-hidden -std=c++17 -fmessage-length=0 -march=nocona -mtune=haswell -ftree-vectorize -fPIC -fstack-protector-strong -fno-plt -O2 -ffunction-sections -pipe -isystem /home/aakhmetz/anaconda3/include -std=c++1y -D\\_REENTRANT -Wno-sign-compare    -Wno-delete-non-virtual-dtor  -I stan/lib/stan\\_math/lib/tbb\\_2019\\_U8/include -O3 -I src -I stan/src -I lib/rapidjson\\_1.1.0/ -I stan/lib/stan\\_math/ -I stan/lib/stan\\_math/lib/eigen\\_3.3.3 -I stan/lib/stan\\_math/lib/boost\\_1.72.0 -I stan/lib/stan\\_math/lib/sundials\\_4.1.0/include -DNDEBUG -D\\_FORTIFY\\_SOURCE=2 -O2 -isystem /home/aakhmetz/anaconda3/include    -DBOOST\\_DISABLE\\_ASSERTS   -DSTAN\\_MPI   -c  -x c++ -o ../Hokkaido\\_Wuhan\\_Serial\\_Interval\\_2020/scripts/Andrei/stan-sims-NEJMChina/weibull-no\\_truncation/fit.o ../Hokkaido\\_Wuhan\\_Serial\\_Interval\\_2020/scripts/Andrei/stan-sims-NEJMChina/weibull-no\\_truncation/fit.hpp'\n",
       "\\item 'mpicxx -fvisibility-inlines-hidden -std=c++17 -fmessage-length=0 -march=nocona -mtune=haswell -ftree-vectorize -fPIC -fstack-protector-strong -fno-plt -O2 -ffunction-sections -pipe -isystem /home/aakhmetz/anaconda3/include -std=c++1y -D\\_REENTRANT -Wno-sign-compare    -Wno-delete-non-virtual-dtor  -I stan/lib/stan\\_math/lib/tbb\\_2019\\_U8/include -O3 -I src -I stan/src -I lib/rapidjson\\_1.1.0/ -I stan/lib/stan\\_math/ -I stan/lib/stan\\_math/lib/eigen\\_3.3.3 -I stan/lib/stan\\_math/lib/boost\\_1.72.0 -I stan/lib/stan\\_math/lib/sundials\\_4.1.0/include -DNDEBUG -D\\_FORTIFY\\_SOURCE=2 -O2 -isystem /home/aakhmetz/anaconda3/include    -DBOOST\\_DISABLE\\_ASSERTS   -DSTAN\\_MPI  -Wl,-O2 -Wl,--sort-common -Wl,--as-needed -Wl,-z,relro -Wl,-z,now -Wl,--disable-new-dtags -Wl,--gc-sections -Wl,-rpath,/home/aakhmetz/anaconda3/lib -Wl,-rpath-link,/home/aakhmetz/anaconda3/lib -L/home/aakhmetz/anaconda3/lib       -Wl,-L,\"/home/aakhmetz/Dropbox/CmdStan/stan/lib/stan\\_math/lib/boost\\_1.72.0/stage/lib\" -Wl,-rpath,\"/home/aakhmetz/Dropbox/CmdStan/stan/lib/stan\\_math/lib/boost\\_1.72.0/stage/lib\" -Wl,-L,\"/home/aakhmetz/Dropbox/CmdStan/stan/lib/stan\\_math/lib/tbb\" -Wl,-rpath,\"/home/aakhmetz/Dropbox/CmdStan/stan/lib/stan\\_math/lib/tbb\"  ../Hokkaido\\_Wuhan\\_Serial\\_Interval\\_2020/scripts/Andrei/stan-sims-NEJMChina/weibull-no\\_truncation/fit.o src/cmdstan/main.o         stan/lib/stan\\_math/lib/sundials\\_4.1.0/lib/libsundials\\_nvecserial.a stan/lib/stan\\_math/lib/sundials\\_4.1.0/lib/libsundials\\_cvodes.a stan/lib/stan\\_math/lib/sundials\\_4.1.0/lib/libsundials\\_idas.a stan/lib/stan\\_math/lib/sundials\\_4.1.0/lib/libsundials\\_kinsol.a stan/lib/stan\\_math/lib/boost\\_1.72.0/stage/lib/libboost\\_serialization.so stan/lib/stan\\_math/lib/boost\\_1.72.0/stage/lib/libboost\\_mpi.so stan/lib/stan\\_math/stan/math/prim/functor/mpi\\_cluster\\_inst.o stan/lib/stan\\_math/lib/tbb/libtbb.so.2 -o ../Hokkaido\\_Wuhan\\_Serial\\_Interval\\_2020/scripts/Andrei/stan-sims-NEJMChina/weibull-no\\_truncation/fit'\n",
       "\\item 'Running 1'\n",
       "\\item 'Running 2'\n",
       "\\item 'Running 3'\n",
       "\\item 'Running 4'\n",
       "\\item 'Running 5'\n",
       "\\item 'Running 6'\n",
       "\\item 'Running 7'\n",
       "\\item 'Running 8'\n",
       "\\item 'Running 9'\n",
       "\\item 'Running 10'\n",
       "\\item 'Finished sampling haha!'\n",
       "\\end{enumerate*}\n"
      ],
      "text/markdown": [
       "1. ''\n",
       "2. '--- Translating Stan model to C++ code ---'\n",
       "3. <span style=white-space:pre-wrap>'bin/stanc  --o=../Hokkaido_Wuhan_Serial_Interval_2020/scripts/Andrei/stan-sims-NEJMChina/weibull-no_truncation/fit.hpp ../Hokkaido_Wuhan_Serial_Interval_2020/scripts/Andrei/stan-sims-NEJMChina/weibull-no_truncation/fit.stan'</span>\n",
       "4. <span style=white-space:pre-wrap>'mpicxx -fvisibility-inlines-hidden -std=c++17 -fmessage-length=0 -march=nocona -mtune=haswell -ftree-vectorize -fPIC -fstack-protector-strong -fno-plt -O2 -ffunction-sections -pipe -isystem /home/aakhmetz/anaconda3/include -std=c++1y -D_REENTRANT -Wno-sign-compare    -Wno-delete-non-virtual-dtor  -I stan/lib/stan_math/lib/tbb_2019_U8/include -O3 -I src -I stan/src -I lib/rapidjson_1.1.0/ -I stan/lib/stan_math/ -I stan/lib/stan_math/lib/eigen_3.3.3 -I stan/lib/stan_math/lib/boost_1.72.0 -I stan/lib/stan_math/lib/sundials_4.1.0/include -DNDEBUG -D_FORTIFY_SOURCE=2 -O2 -isystem /home/aakhmetz/anaconda3/include    -DBOOST_DISABLE_ASSERTS   -DSTAN_MPI   -c -MT ../Hokkaido_Wuhan_Serial_Interval_2020/scripts/Andrei/stan-sims-NEJMChina/weibull-no_truncation/fit.o -MT ../Hokkaido_Wuhan_Serial_Interval_2020/scripts/Andrei/stan-sims-NEJMChina/weibull-no_truncation/fit -include ../Hokkaido_Wuhan_Serial_Interval_2020/scripts/Andrei/stan-sims-NEJMChina/weibull-no_truncation/fit.hpp -include src/cmdstan/main.cpp -MM -E -MG -MP -MF ../Hokkaido_Wuhan_Serial_Interval_2020/scripts/Andrei/stan-sims-NEJMChina/weibull-no_truncation/fit.d ../Hokkaido_Wuhan_Serial_Interval_2020/scripts/Andrei/stan-sims-NEJMChina/weibull-no_truncation/fit.hpp'</span>\n",
       "5. ''\n",
       "6. '--- Compiling, linking C++ code ---'\n",
       "7. <span style=white-space:pre-wrap>'mpicxx -fvisibility-inlines-hidden -std=c++17 -fmessage-length=0 -march=nocona -mtune=haswell -ftree-vectorize -fPIC -fstack-protector-strong -fno-plt -O2 -ffunction-sections -pipe -isystem /home/aakhmetz/anaconda3/include -std=c++1y -D_REENTRANT -Wno-sign-compare    -Wno-delete-non-virtual-dtor  -I stan/lib/stan_math/lib/tbb_2019_U8/include -O3 -I src -I stan/src -I lib/rapidjson_1.1.0/ -I stan/lib/stan_math/ -I stan/lib/stan_math/lib/eigen_3.3.3 -I stan/lib/stan_math/lib/boost_1.72.0 -I stan/lib/stan_math/lib/sundials_4.1.0/include -DNDEBUG -D_FORTIFY_SOURCE=2 -O2 -isystem /home/aakhmetz/anaconda3/include    -DBOOST_DISABLE_ASSERTS   -DSTAN_MPI   -c  -x c++ -o ../Hokkaido_Wuhan_Serial_Interval_2020/scripts/Andrei/stan-sims-NEJMChina/weibull-no_truncation/fit.o ../Hokkaido_Wuhan_Serial_Interval_2020/scripts/Andrei/stan-sims-NEJMChina/weibull-no_truncation/fit.hpp'</span>\n",
       "8. <span style=white-space:pre-wrap>'mpicxx -fvisibility-inlines-hidden -std=c++17 -fmessage-length=0 -march=nocona -mtune=haswell -ftree-vectorize -fPIC -fstack-protector-strong -fno-plt -O2 -ffunction-sections -pipe -isystem /home/aakhmetz/anaconda3/include -std=c++1y -D_REENTRANT -Wno-sign-compare    -Wno-delete-non-virtual-dtor  -I stan/lib/stan_math/lib/tbb_2019_U8/include -O3 -I src -I stan/src -I lib/rapidjson_1.1.0/ -I stan/lib/stan_math/ -I stan/lib/stan_math/lib/eigen_3.3.3 -I stan/lib/stan_math/lib/boost_1.72.0 -I stan/lib/stan_math/lib/sundials_4.1.0/include -DNDEBUG -D_FORTIFY_SOURCE=2 -O2 -isystem /home/aakhmetz/anaconda3/include    -DBOOST_DISABLE_ASSERTS   -DSTAN_MPI  -Wl,-O2 -Wl,--sort-common -Wl,--as-needed -Wl,-z,relro -Wl,-z,now -Wl,--disable-new-dtags -Wl,--gc-sections -Wl,-rpath,/home/aakhmetz/anaconda3/lib -Wl,-rpath-link,/home/aakhmetz/anaconda3/lib -L/home/aakhmetz/anaconda3/lib       -Wl,-L,\"/home/aakhmetz/Dropbox/CmdStan/stan/lib/stan_math/lib/boost_1.72.0/stage/lib\" -Wl,-rpath,\"/home/aakhmetz/Dropbox/CmdStan/stan/lib/stan_math/lib/boost_1.72.0/stage/lib\" -Wl,-L,\"/home/aakhmetz/Dropbox/CmdStan/stan/lib/stan_math/lib/tbb\" -Wl,-rpath,\"/home/aakhmetz/Dropbox/CmdStan/stan/lib/stan_math/lib/tbb\"  ../Hokkaido_Wuhan_Serial_Interval_2020/scripts/Andrei/stan-sims-NEJMChina/weibull-no_truncation/fit.o src/cmdstan/main.o         stan/lib/stan_math/lib/sundials_4.1.0/lib/libsundials_nvecserial.a stan/lib/stan_math/lib/sundials_4.1.0/lib/libsundials_cvodes.a stan/lib/stan_math/lib/sundials_4.1.0/lib/libsundials_idas.a stan/lib/stan_math/lib/sundials_4.1.0/lib/libsundials_kinsol.a stan/lib/stan_math/lib/boost_1.72.0/stage/lib/libboost_serialization.so stan/lib/stan_math/lib/boost_1.72.0/stage/lib/libboost_mpi.so stan/lib/stan_math/stan/math/prim/functor/mpi_cluster_inst.o stan/lib/stan_math/lib/tbb/libtbb.so.2 -o ../Hokkaido_Wuhan_Serial_Interval_2020/scripts/Andrei/stan-sims-NEJMChina/weibull-no_truncation/fit'</span>\n",
       "9. 'Running 1'\n",
       "10. 'Running 2'\n",
       "11. 'Running 3'\n",
       "12. 'Running 4'\n",
       "13. 'Running 5'\n",
       "14. 'Running 6'\n",
       "15. 'Running 7'\n",
       "16. 'Running 8'\n",
       "17. 'Running 9'\n",
       "18. 'Running 10'\n",
       "19. 'Finished sampling haha!'\n",
       "\n",
       "\n"
      ],
      "text/plain": [
       " [1] \"\"                                                                                                                                                                                                                                                                                                                                                                                                                                                                                                                                                                                                                                                                                                                                                                                                                                                                                                                                                                                                                                                                                                                                                                                                                                                                                                                                                                                                                                                                                                                                                                                                                                                                                                                                                                                                                                                                                                                                                                                                        \n",
       " [2] \"--- Translating Stan model to C++ code ---\"                                                                                                                                                                                                                                                                                                                                                                                                                                                                                                                                                                                                                                                                                                                                                                                                                                                                                                                                                                                                                                                                                                                                                                                                                                                                                                                                                                                                                                                                                                                                                                                                                                                                                                                                                                                                                                                                                                                                                              \n",
       " [3] \"bin/stanc  --o=../Hokkaido_Wuhan_Serial_Interval_2020/scripts/Andrei/stan-sims-NEJMChina/weibull-no_truncation/fit.hpp ../Hokkaido_Wuhan_Serial_Interval_2020/scripts/Andrei/stan-sims-NEJMChina/weibull-no_truncation/fit.stan\"                                                                                                                                                                                                                                                                                                                                                                                                                                                                                                                                                                                                                                                                                                                                                                                                                                                                                                                                                                                                                                                                                                                                                                                                                                                                                                                                                                                                                                                                                                                                                                                                                                                                                                                                                                         \n",
       " [4] \"mpicxx -fvisibility-inlines-hidden -std=c++17 -fmessage-length=0 -march=nocona -mtune=haswell -ftree-vectorize -fPIC -fstack-protector-strong -fno-plt -O2 -ffunction-sections -pipe -isystem /home/aakhmetz/anaconda3/include -std=c++1y -D_REENTRANT -Wno-sign-compare    -Wno-delete-non-virtual-dtor  -I stan/lib/stan_math/lib/tbb_2019_U8/include -O3 -I src -I stan/src -I lib/rapidjson_1.1.0/ -I stan/lib/stan_math/ -I stan/lib/stan_math/lib/eigen_3.3.3 -I stan/lib/stan_math/lib/boost_1.72.0 -I stan/lib/stan_math/lib/sundials_4.1.0/include -DNDEBUG -D_FORTIFY_SOURCE=2 -O2 -isystem /home/aakhmetz/anaconda3/include    -DBOOST_DISABLE_ASSERTS   -DSTAN_MPI   -c -MT ../Hokkaido_Wuhan_Serial_Interval_2020/scripts/Andrei/stan-sims-NEJMChina/weibull-no_truncation/fit.o -MT ../Hokkaido_Wuhan_Serial_Interval_2020/scripts/Andrei/stan-sims-NEJMChina/weibull-no_truncation/fit -include ../Hokkaido_Wuhan_Serial_Interval_2020/scripts/Andrei/stan-sims-NEJMChina/weibull-no_truncation/fit.hpp -include src/cmdstan/main.cpp -MM -E -MG -MP -MF ../Hokkaido_Wuhan_Serial_Interval_2020/scripts/Andrei/stan-sims-NEJMChina/weibull-no_truncation/fit.d ../Hokkaido_Wuhan_Serial_Interval_2020/scripts/Andrei/stan-sims-NEJMChina/weibull-no_truncation/fit.hpp\"                                                                                                                                                                                                                                                                                                                                                                                                                                                                                                                                                                                                                                                                                                                   \n",
       " [5] \"\"                                                                                                                                                                                                                                                                                                                                                                                                                                                                                                                                                                                                                                                                                                                                                                                                                                                                                                                                                                                                                                                                                                                                                                                                                                                                                                                                                                                                                                                                                                                                                                                                                                                                                                                                                                                                                                                                                                                                                                                                        \n",
       " [6] \"--- Compiling, linking C++ code ---\"                                                                                                                                                                                                                                                                                                                                                                                                                                                                                                                                                                                                                                                                                                                                                                                                                                                                                                                                                                                                                                                                                                                                                                                                                                                                                                                                                                                                                                                                                                                                                                                                                                                                                                                                                                                                                                                                                                                                                                     \n",
       " [7] \"mpicxx -fvisibility-inlines-hidden -std=c++17 -fmessage-length=0 -march=nocona -mtune=haswell -ftree-vectorize -fPIC -fstack-protector-strong -fno-plt -O2 -ffunction-sections -pipe -isystem /home/aakhmetz/anaconda3/include -std=c++1y -D_REENTRANT -Wno-sign-compare    -Wno-delete-non-virtual-dtor  -I stan/lib/stan_math/lib/tbb_2019_U8/include -O3 -I src -I stan/src -I lib/rapidjson_1.1.0/ -I stan/lib/stan_math/ -I stan/lib/stan_math/lib/eigen_3.3.3 -I stan/lib/stan_math/lib/boost_1.72.0 -I stan/lib/stan_math/lib/sundials_4.1.0/include -DNDEBUG -D_FORTIFY_SOURCE=2 -O2 -isystem /home/aakhmetz/anaconda3/include    -DBOOST_DISABLE_ASSERTS   -DSTAN_MPI   -c  -x c++ -o ../Hokkaido_Wuhan_Serial_Interval_2020/scripts/Andrei/stan-sims-NEJMChina/weibull-no_truncation/fit.o ../Hokkaido_Wuhan_Serial_Interval_2020/scripts/Andrei/stan-sims-NEJMChina/weibull-no_truncation/fit.hpp\"                                                                                                                                                                                                                                                                                                                                                                                                                                                                                                                                                                                                                                                                                                                                                                                                                                                                                                                                                                                                                                                                                            \n",
       " [8] \"mpicxx -fvisibility-inlines-hidden -std=c++17 -fmessage-length=0 -march=nocona -mtune=haswell -ftree-vectorize -fPIC -fstack-protector-strong -fno-plt -O2 -ffunction-sections -pipe -isystem /home/aakhmetz/anaconda3/include -std=c++1y -D_REENTRANT -Wno-sign-compare    -Wno-delete-non-virtual-dtor  -I stan/lib/stan_math/lib/tbb_2019_U8/include -O3 -I src -I stan/src -I lib/rapidjson_1.1.0/ -I stan/lib/stan_math/ -I stan/lib/stan_math/lib/eigen_3.3.3 -I stan/lib/stan_math/lib/boost_1.72.0 -I stan/lib/stan_math/lib/sundials_4.1.0/include -DNDEBUG -D_FORTIFY_SOURCE=2 -O2 -isystem /home/aakhmetz/anaconda3/include    -DBOOST_DISABLE_ASSERTS   -DSTAN_MPI  -Wl,-O2 -Wl,--sort-common -Wl,--as-needed -Wl,-z,relro -Wl,-z,now -Wl,--disable-new-dtags -Wl,--gc-sections -Wl,-rpath,/home/aakhmetz/anaconda3/lib -Wl,-rpath-link,/home/aakhmetz/anaconda3/lib -L/home/aakhmetz/anaconda3/lib       -Wl,-L,\\\"/home/aakhmetz/Dropbox/CmdStan/stan/lib/stan_math/lib/boost_1.72.0/stage/lib\\\" -Wl,-rpath,\\\"/home/aakhmetz/Dropbox/CmdStan/stan/lib/stan_math/lib/boost_1.72.0/stage/lib\\\" -Wl,-L,\\\"/home/aakhmetz/Dropbox/CmdStan/stan/lib/stan_math/lib/tbb\\\" -Wl,-rpath,\\\"/home/aakhmetz/Dropbox/CmdStan/stan/lib/stan_math/lib/tbb\\\"  ../Hokkaido_Wuhan_Serial_Interval_2020/scripts/Andrei/stan-sims-NEJMChina/weibull-no_truncation/fit.o src/cmdstan/main.o         stan/lib/stan_math/lib/sundials_4.1.0/lib/libsundials_nvecserial.a stan/lib/stan_math/lib/sundials_4.1.0/lib/libsundials_cvodes.a stan/lib/stan_math/lib/sundials_4.1.0/lib/libsundials_idas.a stan/lib/stan_math/lib/sundials_4.1.0/lib/libsundials_kinsol.a stan/lib/stan_math/lib/boost_1.72.0/stage/lib/libboost_serialization.so stan/lib/stan_math/lib/boost_1.72.0/stage/lib/libboost_mpi.so stan/lib/stan_math/stan/math/prim/functor/mpi_cluster_inst.o stan/lib/stan_math/lib/tbb/libtbb.so.2 -o ../Hokkaido_Wuhan_Serial_Interval_2020/scripts/Andrei/stan-sims-NEJMChina/weibull-no_truncation/fit\"\n",
       " [9] \"Running 1\"                                                                                                                                                                                                                                                                                                                                                                                                                                                                                                                                                                                                                                                                                                                                                                                                                                                                                                                                                                                                                                                                                                                                                                                                                                                                                                                                                                                                                                                                                                                                                                                                                                                                                                                                                                                                                                                                                                                                                                                               \n",
       "[10] \"Running 2\"                                                                                                                                                                                                                                                                                                                                                                                                                                                                                                                                                                                                                                                                                                                                                                                                                                                                                                                                                                                                                                                                                                                                                                                                                                                                                                                                                                                                                                                                                                                                                                                                                                                                                                                                                                                                                                                                                                                                                                                               \n",
       "[11] \"Running 3\"                                                                                                                                                                                                                                                                                                                                                                                                                                                                                                                                                                                                                                                                                                                                                                                                                                                                                                                                                                                                                                                                                                                                                                                                                                                                                                                                                                                                                                                                                                                                                                                                                                                                                                                                                                                                                                                                                                                                                                                               \n",
       "[12] \"Running 4\"                                                                                                                                                                                                                                                                                                                                                                                                                                                                                                                                                                                                                                                                                                                                                                                                                                                                                                                                                                                                                                                                                                                                                                                                                                                                                                                                                                                                                                                                                                                                                                                                                                                                                                                                                                                                                                                                                                                                                                                               \n",
       "[13] \"Running 5\"                                                                                                                                                                                                                                                                                                                                                                                                                                                                                                                                                                                                                                                                                                                                                                                                                                                                                                                                                                                                                                                                                                                                                                                                                                                                                                                                                                                                                                                                                                                                                                                                                                                                                                                                                                                                                                                                                                                                                                                               \n",
       "[14] \"Running 6\"                                                                                                                                                                                                                                                                                                                                                                                                                                                                                                                                                                                                                                                                                                                                                                                                                                                                                                                                                                                                                                                                                                                                                                                                                                                                                                                                                                                                                                                                                                                                                                                                                                                                                                                                                                                                                                                                                                                                                                                               \n",
       "[15] \"Running 7\"                                                                                                                                                                                                                                                                                                                                                                                                                                                                                                                                                                                                                                                                                                                                                                                                                                                                                                                                                                                                                                                                                                                                                                                                                                                                                                                                                                                                                                                                                                                                                                                                                                                                                                                                                                                                                                                                                                                                                                                               \n",
       "[16] \"Running 8\"                                                                                                                                                                                                                                                                                                                                                                                                                                                                                                                                                                                                                                                                                                                                                                                                                                                                                                                                                                                                                                                                                                                                                                                                                                                                                                                                                                                                                                                                                                                                                                                                                                                                                                                                                                                                                                                                                                                                                                                               \n",
       "[17] \"Running 9\"                                                                                                                                                                                                                                                                                                                                                                                                                                                                                                                                                                                                                                                                                                                                                                                                                                                                                                                                                                                                                                                                                                                                                                                                                                                                                                                                                                                                                                                                                                                                                                                                                                                                                                                                                                                                                                                                                                                                                                                               \n",
       "[18] \"Running 10\"                                                                                                                                                                                                                                                                                                                                                                                                                                                                                                                                                                                                                                                                                                                                                                                                                                                                                                                                                                                                                                                                                                                                                                                                                                                                                                                                                                                                                                                                                                                                                                                                                                                                                                                                                                                                                                                                                                                                                                                              \n",
       "[19] \"Finished sampling haha!\"                                                                                                                                                                                                                                                                                                                                                                                                                                                                                                                                                                                                                                                                                                                                                                                                                                                                                                                                                                                                                                                                                                                                                                                                                                                                                                                                                                                                                                                                                                                                                                                                                                                                                                                                                                                                                                                                                                                                                                                 "
      ]
     },
     "metadata": {},
     "output_type": "display_data"
    }
   ],
   "source": [
    "## main dir for Stan simulations\n",
    "standirname = stanmaindir%&%\"/weibull-no_truncation\"\n",
    "unlink(standirname, recursive=T)\n",
    "dir.create(standirname)\n",
    "\n",
    "# Dumping data\n",
    "N = nrow(df)\n",
    "E_L = df$E_L\n",
    "E_R = df$E_R\n",
    "S_L = df$S_L\n",
    "S_R = df$S_R\n",
    "stan_rdump(c('E_L', 'E_R', 'S_L', 'S_R', 'N'), file=standirname%&%\"/Data.R\") \n",
    "\n",
    "# Dumping initial conditions\n",
    "e_raw = rep(.2, N)\n",
    "s_raw = rep(.8, N)\n",
    "logmean_SI = log(mean(df$dist))\n",
    "param1 = 1.75\n",
    "stan_rdump(c('e_raw', 's_raw', 'logmean_SI', 'param1'), file=standirname%&%\"/Init.R\") \n",
    "\n",
    "# Stan program\n",
    "\"data {\n",
    "    int<lower = 0> N; // number of records\n",
    "    vector<lower = 0>[N] E_L;\n",
    "    vector<lower = 0>[N] E_R;\n",
    "    vector<lower = 0>[N] S_L;\n",
    "    vector<lower = 0>[N] S_R;\n",
    "}\n",
    "\n",
    "parameters {\n",
    "    real<lower = 0> mean_SI;\n",
    "    real<lower = 0> param1;\n",
    "\n",
    "    vector<lower = 0, upper = 1>[N] e_raw;\n",
    "    vector<lower = 0, upper = 1>[N] s_raw;\n",
    "}\n",
    "\n",
    "transformed parameters {\n",
    "    real<lower = 0> param2 = mean_SI/tgamma(1.0+1.0/param1);\n",
    "\n",
    "    vector<lower = min(S_L), upper = max(S_R)>[N] s;\n",
    "    vector<lower = min(E_L), upper = max(E_R)>[N] e;\n",
    "    vector<lower = 0, upper = max(S_R)>[N] t;\n",
    "\n",
    "    {\n",
    "        vector[N] s_;\n",
    "        \n",
    "        s_ = S_L + (S_R - S_L) .* s_raw;\n",
    "        for (k in 1:N) {\n",
    "            if (s_[k] < E_L[k])\n",
    "                s[k] = E_L[k];\n",
    "            else \n",
    "                s[k] = s_[k];\n",
    "\n",
    "            if (E_R[k] > s[k]) \n",
    "                e[k] = E_L[k] + (s[k] - 1e-3 - E_L[k]) * e_raw[k];\n",
    "            else if (E_L[k] > s[k])\n",
    "                e[k] = s[k] - 1e-3;\n",
    "            else\n",
    "                e[k] = E_L[k] + (E_R[k] - E_L[k]) * e_raw[k];\n",
    "        }\n",
    "        t = s - e;\n",
    "    }\n",
    "}\n",
    "\n",
    "model {\n",
    "    mean_SI ~ normal(5.0, 10.0);\n",
    "    param1 ~ exponential(0.0001);\n",
    "\n",
    "    e_raw ~ normal(0.5, 1.0);\n",
    "    s_raw ~ normal(0.5, 1.0);\n",
    "\n",
    "    t ~ weibull(param1, param2);\n",
    "}\n",
    "\n",
    "generated quantities {\n",
    "    real sd_SI = param2*sqrt(tgamma(1.0+2.0/param1)-(tgamma(1.0+1.0/param1))^2);\n",
    "\n",
    "    vector[N] log_likelihood;\n",
    "    for (k in 1:N) \n",
    "        log_likelihood[k] = weibull_lpdf(t[k] | param1, param2);\n",
    "}\" %>% cat(file=standirname %&% \"/fit.stan\", sep=\"\", fill=TRUE)\n",
    "\n",
    "standistribdir = \"../../../CmdStan\"\n",
    "stanscriptdir = \"../Hokkaido_Wuhan_Serial_Interval_2020/scripts/Andrei/\"%&%standirname\n",
    "## bash file\n",
    "\"#!/bin/bash\n",
    "cwd=$(pwd)\n",
    "cd \"%&%standistribdir%&%\"\n",
    "make -j6 \"%&%stanscriptdir%&%\"/fit\n",
    "cd \"%&%stanscriptdir%&%\"\n",
    "mkdir -p diagnostics\n",
    "for i in {1..10}\n",
    "do\n",
    "    echo Running ${i}\n",
    "    SEEDNUMBER=$((1+$i))\n",
    "    ./fit \\\\\n",
    "        method=sample num_samples=10000 num_warmup=100000 save_warmup=0 \\\\\n",
    "            adapt delta=0.98 \\\\\n",
    "            algorithm=hmc \\\\\n",
    "                engine=nuts \\\\\n",
    "        random seed=${SEEDNUMBER} \\\\\n",
    "        id=$i \\\\\n",
    "        data file=Data.R \\\\\n",
    "        init=Init.R \\\\\n",
    "        output file=trace-$i.csv \\\\\n",
    "            diagnostic_file=diagnostics/diagnostics-$i.csv > diagnostics/output-$i.txt &\n",
    "done\n",
    "echo Finished sampling haha!\n",
    "\" %>% cat(file=standirname%&%\"/fit.sh\", sep=\"\", fill=TRUE)\n",
    "\n",
    "## running the bash script\n",
    "system(\"bash \"%&%standirname%&%\"/fit.sh\", intern = TRUE)"
   ]
  },
  {
   "cell_type": "code",
   "execution_count": null,
   "metadata": {},
   "outputs": [],
   "source": []
  }
 ],
 "metadata": {
  "kernelspec": {
   "display_name": "R",
   "language": "R",
   "name": "ir"
  },
  "language_info": {
   "codemirror_mode": "r",
   "file_extension": ".r",
   "mimetype": "text/x-r-source",
   "name": "R",
   "pygments_lexer": "r",
   "version": "4.0.0"
  }
 },
 "nbformat": 4,
 "nbformat_minor": 4
}
